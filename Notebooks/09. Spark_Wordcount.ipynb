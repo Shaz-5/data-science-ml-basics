{
 "cells": [
  {
   "cell_type": "markdown",
   "metadata": {
    "id": "xFngdtDzl_h_"
   },
   "source": [
    "<h1 style=\"text-align: center;font-weight:900;font-size:30px\">WORD COUNT WITH MAP-REDUCE</h1>"
   ]
  },
  {
   "cell_type": "markdown",
   "metadata": {},
   "source": [
    "## Aim:"
   ]
  },
  {
   "cell_type": "markdown",
   "metadata": {},
   "source": [
    "To use spark and hadoop with map reduce techniques to obtain word count from big data"
   ]
  },
  {
   "cell_type": "markdown",
   "metadata": {},
   "source": [
    "<div>"
   ]
  },
  {
   "cell_type": "markdown",
   "metadata": {},
   "source": [
    "## Algorithm: "
   ]
  },
  {
   "cell_type": "markdown",
   "metadata": {},
   "source": [
    "Step1: Start<br>\n",
    "Step2: Install OpenJDK, Hadoop Spark and Findspark packages<br>\n",
    "Step3: Set environment variables in path<br>\n",
    "Step4: Load the text file using drive from Google Colab <br>\n",
    "Step5: Read the data from the text file<br>\n",
    "Step6: Split each line into lots of words<br>\n",
    "Step7: Count the occurence of each word using map-reduce techniques<br>\n",
    "Step8: Stop<br>"
   ]
  },
  {
   "cell_type": "markdown",
   "metadata": {},
   "source": [
    "<div>"
   ]
  },
  {
   "cell_type": "markdown",
   "metadata": {},
   "source": [
    "## Code: "
   ]
  },
  {
   "cell_type": "code",
   "execution_count": null,
   "metadata": {
    "id": "Jx7BuTT2l6o7"
   },
   "outputs": [],
   "source": [
    "!apt-get install openjdk-8-jdk-headless -qq > /dev/null"
   ]
  },
  {
   "cell_type": "code",
   "execution_count": null,
   "metadata": {
    "id": "dQm0TgoQmM71"
   },
   "outputs": [],
   "source": [
    "!wget -q https://dlcdn.apache.org/spark/spark-3.3.1/spark-3.3.1-bin-hadoop3.tgz"
   ]
  },
  {
   "cell_type": "code",
   "execution_count": null,
   "metadata": {
    "id": "EYtyFg5dmaiW"
   },
   "outputs": [],
   "source": [
    "!tar xf spark-3.3.1-bin-hadoop3.tgz"
   ]
  },
  {
   "cell_type": "code",
   "execution_count": null,
   "metadata": {
    "id": "_yHxyXk1mjh3"
   },
   "outputs": [],
   "source": [
    "!pip install -q findspark"
   ]
  },
  {
   "cell_type": "code",
   "execution_count": null,
   "metadata": {
    "id": "byfDkiqImlMQ"
   },
   "outputs": [],
   "source": [
    "import os\n",
    "os.environ[\"JAVA_HOME\"] = \"/usr/lib/jvm/java-8-openjdk-amd64\"\n",
    "os.environ[\"SPARK_HOME\"] = \"/content/spark-3.3.1-bin-hadoop3\""
   ]
  },
  {
   "cell_type": "code",
   "execution_count": null,
   "metadata": {
    "id": "ZqYyjvqRmuHD"
   },
   "outputs": [],
   "source": [
    "import findspark\n",
    "findspark.init()"
   ]
  },
  {
   "cell_type": "code",
   "execution_count": null,
   "metadata": {
    "colab": {
     "base_uri": "https://localhost:8080/"
    },
    "id": "JPqpH4eVpgkD",
    "outputId": "1bd9c5dd-c7cc-45d2-b176-92029269e36b"
   },
   "outputs": [
    {
     "name": "stdout",
     "output_type": "stream",
     "text": [
      "Mounted at /content/drive\n"
     ]
    }
   ],
   "source": [
    "from google.colab import drive\n",
    "drive.mount('/content/drive')"
   ]
  },
  {
   "cell_type": "code",
   "execution_count": null,
   "metadata": {
    "id": "og8PakdO4lws"
   },
   "outputs": [],
   "source": [
    "from pyspark.sql import SparkSession\n",
    "spark = SparkSession.builder.appName(\"basics\").getOrCreate()"
   ]
  },
  {
   "cell_type": "code",
   "execution_count": null,
   "metadata": {
    "id": "orgRnlurAgjz"
   },
   "outputs": [],
   "source": [
    "sc = spark.sparkContext"
   ]
  },
  {
   "cell_type": "markdown",
   "metadata": {
    "id": "6FLkewyiBgaC"
   },
   "source": [
    "#### Word Count"
   ]
  },
  {
   "cell_type": "code",
   "execution_count": null,
   "metadata": {
    "id": "Wd-vii7FBjBH"
   },
   "outputs": [],
   "source": [
    "# read data from text file \n",
    "txtfile = sc.textFile(\"/content/drive/MyDrive/Dataset/cinderella.txt\")"
   ]
  },
  {
   "cell_type": "code",
   "execution_count": null,
   "metadata": {
    "id": "7PRQW4HcCR-S"
   },
   "outputs": [],
   "source": [
    "#split each line into words\n",
    "words = txtfile.flatMap(lambda line: line.split(\" \"))"
   ]
  },
  {
   "cell_type": "code",
   "execution_count": null,
   "metadata": {
    "colab": {
     "base_uri": "https://localhost:8080/"
    },
    "id": "_NBtfaUsyX4I",
    "outputId": "a6b8bb14-574b-4a4f-ef19-234780478ca2",
    "scrolled": false
   },
   "outputs": [
    {
     "data": {
      "text/plain": [
       "['Once',\n",
       " 'upon',\n",
       " 'a',\n",
       " 'time...',\n",
       " 'there',\n",
       " 'lived',\n",
       " 'an',\n",
       " 'unhappy',\n",
       " 'young',\n",
       " 'girl.',\n",
       " 'Unhappy',\n",
       " 'she',\n",
       " 'was,',\n",
       " 'for',\n",
       " 'her',\n",
       " 'mother',\n",
       " 'was',\n",
       " 'dead,',\n",
       " 'her',\n",
       " 'father',\n",
       " 'had',\n",
       " 'married',\n",
       " 'another',\n",
       " 'woman,',\n",
       " 'a',\n",
       " 'widow',\n",
       " 'with',\n",
       " 'two',\n",
       " 'daughters,',\n",
       " 'and',\n",
       " 'her',\n",
       " 'stepmother',\n",
       " \"didn't\",\n",
       " 'like',\n",
       " 'her',\n",
       " 'one',\n",
       " 'little',\n",
       " 'bit.',\n",
       " 'All',\n",
       " 'the',\n",
       " 'nice',\n",
       " 'things,',\n",
       " 'kind',\n",
       " 'thoughts',\n",
       " 'and',\n",
       " 'loving',\n",
       " 'touches',\n",
       " 'were',\n",
       " 'for',\n",
       " 'her',\n",
       " 'own',\n",
       " 'daughters.',\n",
       " 'And',\n",
       " 'not',\n",
       " 'just',\n",
       " 'the',\n",
       " 'kind',\n",
       " 'thoughts',\n",
       " 'and',\n",
       " 'love,',\n",
       " 'but',\n",
       " 'also',\n",
       " 'dresses,',\n",
       " 'shoes,',\n",
       " 'shawls,',\n",
       " 'delicious',\n",
       " 'food,',\n",
       " 'comfy',\n",
       " 'beds,',\n",
       " 'as',\n",
       " 'well',\n",
       " 'as',\n",
       " 'every',\n",
       " 'home',\n",
       " 'comfort.',\n",
       " 'All',\n",
       " 'this',\n",
       " 'was',\n",
       " 'laid',\n",
       " 'on',\n",
       " 'for',\n",
       " 'her',\n",
       " 'daughters.',\n",
       " 'But,',\n",
       " 'for',\n",
       " 'the',\n",
       " 'poor',\n",
       " 'unhappy',\n",
       " 'girl,',\n",
       " 'there',\n",
       " 'was',\n",
       " 'nothing',\n",
       " 'at',\n",
       " 'all.',\n",
       " 'No',\n",
       " 'dresses,',\n",
       " 'only',\n",
       " 'her',\n",
       " \"stepsisters'\",\n",
       " 'hand-me-downs.',\n",
       " 'No',\n",
       " 'lovely',\n",
       " 'dishes,',\n",
       " 'nothing',\n",
       " 'but',\n",
       " 'scraps.',\n",
       " 'No',\n",
       " 'nice',\n",
       " 'rests',\n",
       " 'and',\n",
       " 'comfort.',\n",
       " 'For',\n",
       " 'she',\n",
       " 'had',\n",
       " 'to',\n",
       " 'work',\n",
       " 'hard',\n",
       " 'all',\n",
       " 'day,',\n",
       " 'and',\n",
       " 'only',\n",
       " 'when',\n",
       " 'evening',\n",
       " 'came',\n",
       " 'was',\n",
       " 'she',\n",
       " 'allowed',\n",
       " 'to',\n",
       " 'sit',\n",
       " 'for',\n",
       " 'a',\n",
       " 'while',\n",
       " 'by',\n",
       " 'the',\n",
       " 'fire,',\n",
       " 'near',\n",
       " 'the',\n",
       " 'cinders.',\n",
       " 'That',\n",
       " 'is',\n",
       " 'how',\n",
       " 'she',\n",
       " 'got',\n",
       " 'her',\n",
       " 'nickname,',\n",
       " 'for',\n",
       " 'everybody',\n",
       " 'called',\n",
       " 'her',\n",
       " 'Cinderella.',\n",
       " 'Cinderella',\n",
       " 'used',\n",
       " 'to',\n",
       " 'spend',\n",
       " 'long',\n",
       " 'hours',\n",
       " 'all',\n",
       " 'alonetalking',\n",
       " 'to',\n",
       " 'the',\n",
       " 'cat.',\n",
       " 'The',\n",
       " 'cat',\n",
       " 'said,',\n",
       " '\"Miaow\",',\n",
       " 'which',\n",
       " 'really',\n",
       " 'meant,',\n",
       " '\"Cheer',\n",
       " 'up!',\n",
       " 'You',\n",
       " 'have',\n",
       " 'something',\n",
       " 'neither',\n",
       " 'of',\n",
       " 'your',\n",
       " 'stepsisters',\n",
       " 'have',\n",
       " 'and',\n",
       " 'that',\n",
       " 'is',\n",
       " 'beauty.\"',\n",
       " '',\n",
       " 'It',\n",
       " 'was',\n",
       " 'quite',\n",
       " 'true.',\n",
       " 'Cinderella,',\n",
       " 'even',\n",
       " 'dressed',\n",
       " 'in',\n",
       " 'rags',\n",
       " 'with',\n",
       " 'a',\n",
       " 'dusty',\n",
       " 'grey',\n",
       " 'face',\n",
       " 'from',\n",
       " 'the',\n",
       " 'cinders,',\n",
       " 'was',\n",
       " 'a',\n",
       " 'lovely',\n",
       " 'girl.',\n",
       " 'While',\n",
       " 'her',\n",
       " 'stepsisters,',\n",
       " 'no',\n",
       " 'matter',\n",
       " 'how',\n",
       " 'splendid',\n",
       " 'and',\n",
       " 'elegant',\n",
       " 'their',\n",
       " 'clothes,',\n",
       " 'were',\n",
       " 'still',\n",
       " 'clumsy,',\n",
       " 'lumpy',\n",
       " 'and',\n",
       " 'ugly',\n",
       " 'and',\n",
       " 'always',\n",
       " 'would',\n",
       " 'be.',\n",
       " '',\n",
       " 'One',\n",
       " 'day,',\n",
       " 'beautiful',\n",
       " 'new',\n",
       " 'dresses',\n",
       " 'arrived',\n",
       " 'at',\n",
       " 'the',\n",
       " 'house.',\n",
       " 'A',\n",
       " 'ball',\n",
       " 'was',\n",
       " 'to',\n",
       " 'be',\n",
       " 'held',\n",
       " 'at',\n",
       " 'Court',\n",
       " 'and',\n",
       " 'the',\n",
       " 'stepsisters',\n",
       " 'were',\n",
       " 'getting',\n",
       " 'ready',\n",
       " 'to',\n",
       " 'go',\n",
       " 'to',\n",
       " 'it.',\n",
       " 'Cinderella,',\n",
       " \"didn't\",\n",
       " 'even',\n",
       " 'dare',\n",
       " 'ask,',\n",
       " '\"What',\n",
       " 'about',\n",
       " 'me?\"',\n",
       " 'for',\n",
       " 'she',\n",
       " 'knew',\n",
       " 'very',\n",
       " 'well',\n",
       " 'what',\n",
       " 'the',\n",
       " 'answer',\n",
       " 'to',\n",
       " 'that',\n",
       " 'would',\n",
       " 'be:',\n",
       " '',\n",
       " '\"You?',\n",
       " 'My',\n",
       " 'dear',\n",
       " 'girl,',\n",
       " \"you're\",\n",
       " 'staying',\n",
       " 'at',\n",
       " 'home',\n",
       " 'to',\n",
       " 'wash',\n",
       " 'the',\n",
       " 'dishes,',\n",
       " 'scrub',\n",
       " 'the',\n",
       " 'floors',\n",
       " 'and',\n",
       " 'turn',\n",
       " 'down',\n",
       " 'the',\n",
       " 'beds',\n",
       " 'for',\n",
       " 'your',\n",
       " 'stepsisters.',\n",
       " 'They',\n",
       " 'will',\n",
       " 'come',\n",
       " 'home',\n",
       " 'tired',\n",
       " 'and',\n",
       " 'very',\n",
       " 'sleepy.\"',\n",
       " '',\n",
       " 'Cinderella',\n",
       " 'sighed',\n",
       " 'at',\n",
       " 'the',\n",
       " 'cat:',\n",
       " '\"oh',\n",
       " 'dear,',\n",
       " \"I'm\",\n",
       " 'so',\n",
       " 'unhappy!\"',\n",
       " 'and',\n",
       " 'the',\n",
       " 'cat',\n",
       " 'murmured',\n",
       " '\"Miaow\".']"
      ]
     },
     "execution_count": 12,
     "metadata": {},
     "output_type": "execute_result"
    }
   ],
   "source": [
    "words.collect()"
   ]
  },
  {
   "cell_type": "code",
   "execution_count": null,
   "metadata": {
    "id": "WQnv5bRPCqzj"
   },
   "outputs": [],
   "source": [
    "# count the occurrence of each word\n",
    "wordCounts = words.map(lambda word: (word, 1)).reduceByKey(lambda a,b:a+b)"
   ]
  },
  {
   "cell_type": "code",
   "execution_count": null,
   "metadata": {
    "colab": {
     "base_uri": "https://localhost:8080/"
    },
    "id": "38kqDDJXCvRp",
    "outputId": "75d42a69-fc95-4556-8c0f-238ca3ee97f1"
   },
   "outputs": [
    {
     "name": "stdout",
     "output_type": "stream",
     "text": [
      "Number of occurance of each word in the file is [('Once', 1), ('upon', 1), ('there', 2), ('lived', 1), ('an', 1), ('unhappy', 2), ('young', 1), ('girl.', 2), ('Unhappy', 1), ('her', 10), ('was', 7), ('dead,', 1), ('father', 1), ('married', 1), ('two', 1), (\"didn't\", 2), ('like', 1), ('nice', 2), ('things,', 1), ('kind', 2), ('loving', 1), ('touches', 1), ('own', 1), ('daughters.', 2), ('And', 1), ('just', 1), ('but', 2), ('dresses,', 2), ('shoes,', 1), ('shawls,', 1), ('as', 2), ('home', 3), ('this', 1), ('poor', 1), ('girl,', 2), ('at', 5), ('only', 2), (\"stepsisters'\", 1), ('hand-me-downs.', 1), ('lovely', 2), ('scraps.', 1), ('work', 1), ('when', 1), ('came', 1), ('fire,', 1), ('near', 1), ('That', 1), ('is', 2), ('got', 1), ('Cinderella', 2), ('used', 1), ('long', 1), ('hours', 1), ('alonetalking', 1), ('The', 1), ('cat', 2), ('really', 1), ('have', 2), ('something', 1), ('neither', 1), ('of', 1), ('stepsisters', 2), ('beauty.\"', 1), ('', 4), ('It', 1), ('quite', 1), ('true.', 1), ('Cinderella,', 2), ('even', 2), ('dressed', 1), ('in', 1), ('rags', 1), ('dusty', 1), ('grey', 1), ('cinders,', 1), ('no', 1), ('matter', 1), ('elegant', 1), ('clothes,', 1), ('always', 1), ('would', 2), ('be.', 1), ('One', 1), ('new', 1), ('house.', 1), ('Court', 1), ('getting', 1), ('ready', 1), ('go', 1), ('it.', 1), ('dare', 1), ('ask,', 1), ('\"What', 1), ('me?\"', 1), ('very', 2), (\"you're\", 1), ('scrub', 1), ('turn', 1), ('down', 1), ('They', 1), ('cat:', 1), ('\"oh', 1), ('unhappy!\"', 1), ('murmured', 1), ('a', 5), ('time...', 1), ('she', 5), ('was,', 1), ('for', 8), ('mother', 1), ('had', 2), ('another', 1), ('woman,', 1), ('widow', 1), ('with', 2), ('daughters,', 1), ('and', 13), ('stepmother', 1), ('one', 1), ('little', 1), ('bit.', 1), ('All', 2), ('the', 15), ('thoughts', 2), ('were', 3), ('not', 1), ('love,', 1), ('also', 1), ('delicious', 1), ('food,', 1), ('comfy', 1), ('beds,', 1), ('well', 2), ('every', 1), ('comfort.', 2), ('laid', 1), ('on', 1), ('But,', 1), ('nothing', 2), ('all.', 1), ('No', 3), ('dishes,', 2), ('rests', 1), ('For', 1), ('to', 9), ('hard', 1), ('all', 2), ('day,', 2), ('evening', 1), ('allowed', 1), ('sit', 1), ('while', 1), ('by', 1), ('cinders.', 1), ('how', 2), ('nickname,', 1), ('everybody', 1), ('called', 1), ('Cinderella.', 1), ('spend', 1), ('cat.', 1), ('said,', 1), ('\"Miaow\",', 1), ('which', 1), ('meant,', 1), ('\"Cheer', 1), ('up!', 1), ('You', 1), ('your', 2), ('that', 2), ('face', 1), ('from', 1), ('While', 1), ('stepsisters,', 1), ('splendid', 1), ('their', 1), ('still', 1), ('clumsy,', 1), ('lumpy', 1), ('ugly', 1), ('beautiful', 1), ('dresses', 1), ('arrived', 1), ('A', 1), ('ball', 1), ('be', 1), ('held', 1), ('about', 1), ('knew', 1), ('what', 1), ('answer', 1), ('be:', 1), ('\"You?', 1), ('My', 1), ('dear', 1), ('staying', 1), ('wash', 1), ('floors', 1), ('beds', 1), ('stepsisters.', 1), ('will', 1), ('come', 1), ('tired', 1), ('sleepy.\"', 1), ('sighed', 1), ('dear,', 1), (\"I'm\", 1), ('so', 1), ('\"Miaow\".', 1)]\n"
     ]
    }
   ],
   "source": [
    "print(\"Number of occurence of each word in the file is\",wordCounts.collect())"
   ]
  }
 ],
 "metadata": {
  "colab": {
   "provenance": []
  },
  "kernelspec": {
   "display_name": "Python 3 (ipykernel)",
   "language": "python",
   "name": "python3"
  },
  "language_info": {
   "codemirror_mode": {
    "name": "ipython",
    "version": 3
   },
   "file_extension": ".py",
   "mimetype": "text/x-python",
   "name": "python",
   "nbconvert_exporter": "python",
   "pygments_lexer": "ipython3",
   "version": "3.10.12"
  }
 },
 "nbformat": 4,
 "nbformat_minor": 1
}
