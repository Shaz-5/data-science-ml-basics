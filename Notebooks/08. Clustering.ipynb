{
 "cells": [
  {
   "cell_type": "markdown",
   "id": "7dcbdd47",
   "metadata": {},
   "source": [
    "<h1 style=\"text-align: center;font-weight:900;font-size:30px\">CLUSTERING</h1>"
   ]
  },
  {
   "cell_type": "markdown",
   "id": "b07d793f",
   "metadata": {},
   "source": [
    "## K-MEANS"
   ]
  },
  {
   "cell_type": "markdown",
   "id": "e6bc02d1",
   "metadata": {},
   "source": [
    "<div>"
   ]
  },
  {
   "cell_type": "markdown",
   "id": "1a47fc29",
   "metadata": {},
   "source": [
    "## Aim:"
   ]
  },
  {
   "cell_type": "markdown",
   "id": "0b516c50",
   "metadata": {},
   "source": [
    "To perform clustering on raw data using k-means agorithm."
   ]
  },
  {
   "cell_type": "markdown",
   "id": "2b3da301",
   "metadata": {},
   "source": [
    "<div>"
   ]
  },
  {
   "cell_type": "markdown",
   "id": "88930a69",
   "metadata": {},
   "source": [
    "## Algorithm:"
   ]
  },
  {
   "cell_type": "markdown",
   "id": "17d3f525",
   "metadata": {},
   "source": [
    "Step 1: Start<br>\n",
    "Step 2: Import pandas, matplotlib.pyplot and seaborn<br>\n",
    "Step 3: Load dataset as a dataframe<br>\n",
    "Step 4: Pre-process the dataset<br>\n",
    "Step 5: Plot a scatter plot of 2 columns(variables) for which clustering is to be done<br>\n",
    "Step 6: Import MinMaxScaler from sklearn.preprocessing<br>\n",
    "Step 7: Use MinMaxScaler() to rescale the values of the variables<br>\n",
    "Step 8: Import KMeans from sklearn.cluster<br>\n",
    "Step 9: Find the number of clusters using Elbow method<br>\n",
    "Step 10: Use the fit_predict() function to divide the values into different clusters<br>\n",
    "Step 11: Add the clusters to dataset<br>\n",
    "Step 12: Plot the scatter plot showing the different clusters<br>\n",
    "Step 13: Stop<br>"
   ]
  },
  {
   "cell_type": "markdown",
   "id": "14e4087e",
   "metadata": {},
   "source": [
    "<div>"
   ]
  },
  {
   "cell_type": "markdown",
   "id": "e3d9f938",
   "metadata": {},
   "source": [
    "\n",
    "## Code:"
   ]
  },
  {
   "cell_type": "code",
   "execution_count": 57,
   "id": "c1c9ac2d",
   "metadata": {},
   "outputs": [],
   "source": [
    "import pandas as pd\n",
    "import matplotlib.pyplot as plt\n",
    "import seaborn as sns"
   ]
  },
  {
   "cell_type": "code",
   "execution_count": 58,
   "id": "f6e2d9e0",
   "metadata": {},
   "outputs": [
    {
     "data": {
      "text/html": [
       "<div>\n",
       "<style scoped>\n",
       "    .dataframe tbody tr th:only-of-type {\n",
       "        vertical-align: middle;\n",
       "    }\n",
       "\n",
       "    .dataframe tbody tr th {\n",
       "        vertical-align: top;\n",
       "    }\n",
       "\n",
       "    .dataframe thead th {\n",
       "        text-align: right;\n",
       "    }\n",
       "</style>\n",
       "<table border=\"1\" class=\"dataframe\">\n",
       "  <thead>\n",
       "    <tr style=\"text-align: right;\">\n",
       "      <th></th>\n",
       "      <th>species</th>\n",
       "      <th>island</th>\n",
       "      <th>bill_length_mm</th>\n",
       "      <th>bill_depth_mm</th>\n",
       "      <th>flipper_length_mm</th>\n",
       "      <th>body_mass_g</th>\n",
       "      <th>sex</th>\n",
       "    </tr>\n",
       "  </thead>\n",
       "  <tbody>\n",
       "    <tr>\n",
       "      <th>0</th>\n",
       "      <td>Adelie</td>\n",
       "      <td>Torgersen</td>\n",
       "      <td>39.1</td>\n",
       "      <td>18.7</td>\n",
       "      <td>181.0</td>\n",
       "      <td>3750.0</td>\n",
       "      <td>Male</td>\n",
       "    </tr>\n",
       "    <tr>\n",
       "      <th>1</th>\n",
       "      <td>Adelie</td>\n",
       "      <td>Torgersen</td>\n",
       "      <td>39.5</td>\n",
       "      <td>17.4</td>\n",
       "      <td>186.0</td>\n",
       "      <td>3800.0</td>\n",
       "      <td>Female</td>\n",
       "    </tr>\n",
       "    <tr>\n",
       "      <th>2</th>\n",
       "      <td>Adelie</td>\n",
       "      <td>Torgersen</td>\n",
       "      <td>40.3</td>\n",
       "      <td>18.0</td>\n",
       "      <td>195.0</td>\n",
       "      <td>3250.0</td>\n",
       "      <td>Female</td>\n",
       "    </tr>\n",
       "    <tr>\n",
       "      <th>3</th>\n",
       "      <td>Adelie</td>\n",
       "      <td>Torgersen</td>\n",
       "      <td>NaN</td>\n",
       "      <td>NaN</td>\n",
       "      <td>NaN</td>\n",
       "      <td>NaN</td>\n",
       "      <td>NaN</td>\n",
       "    </tr>\n",
       "    <tr>\n",
       "      <th>4</th>\n",
       "      <td>Adelie</td>\n",
       "      <td>Torgersen</td>\n",
       "      <td>36.7</td>\n",
       "      <td>19.3</td>\n",
       "      <td>193.0</td>\n",
       "      <td>3450.0</td>\n",
       "      <td>Female</td>\n",
       "    </tr>\n",
       "  </tbody>\n",
       "</table>\n",
       "</div>"
      ],
      "text/plain": [
       "  species     island  bill_length_mm  bill_depth_mm  flipper_length_mm  \\\n",
       "0  Adelie  Torgersen            39.1           18.7              181.0   \n",
       "1  Adelie  Torgersen            39.5           17.4              186.0   \n",
       "2  Adelie  Torgersen            40.3           18.0              195.0   \n",
       "3  Adelie  Torgersen             NaN            NaN                NaN   \n",
       "4  Adelie  Torgersen            36.7           19.3              193.0   \n",
       "\n",
       "   body_mass_g     sex  \n",
       "0       3750.0    Male  \n",
       "1       3800.0  Female  \n",
       "2       3250.0  Female  \n",
       "3          NaN     NaN  \n",
       "4       3450.0  Female  "
      ]
     },
     "execution_count": 58,
     "metadata": {},
     "output_type": "execute_result"
    }
   ],
   "source": [
    "df = sns.load_dataset('penguins')\n",
    "df.head()"
   ]
  },
  {
   "cell_type": "code",
   "execution_count": 59,
   "id": "0ee4a234",
   "metadata": {},
   "outputs": [
    {
     "data": {
      "text/plain": [
       "species               0\n",
       "island                0\n",
       "bill_length_mm        2\n",
       "bill_depth_mm         2\n",
       "flipper_length_mm     2\n",
       "body_mass_g           2\n",
       "sex                  11\n",
       "dtype: int64"
      ]
     },
     "execution_count": 59,
     "metadata": {},
     "output_type": "execute_result"
    }
   ],
   "source": [
    "df.isnull().sum()"
   ]
  },
  {
   "cell_type": "code",
   "execution_count": 60,
   "id": "965b7751",
   "metadata": {},
   "outputs": [
    {
     "data": {
      "text/plain": [
       "species              0\n",
       "island               0\n",
       "bill_length_mm       0\n",
       "bill_depth_mm        0\n",
       "flipper_length_mm    0\n",
       "body_mass_g          0\n",
       "sex                  0\n",
       "dtype: int64"
      ]
     },
     "execution_count": 60,
     "metadata": {},
     "output_type": "execute_result"
    }
   ],
   "source": [
    "df = df.dropna()\n",
    "df['bill_length_mm'] = df['bill_length_mm'].interpolate()\n",
    "df['bill_depth_mm'] = df['bill_depth_mm'].interpolate()\n",
    "df['flipper_length_mm'] = df['flipper_length_mm'].interpolate()\n",
    "df['body_mass_g'] = df['body_mass_g'].interpolate()\n",
    "df.isnull().sum()"
   ]
  },
  {
   "cell_type": "code",
   "execution_count": 61,
   "id": "4cf98e1d",
   "metadata": {},
   "outputs": [
    {
     "data": {
      "image/png": "[encoded data removed]",
      "text/plain": [
       "<Figure size 432x288 with 1 Axes>"
      ]
     },
     "metadata": {
      "needs_background": "light"
     },
     "output_type": "display_data"
    }
   ],
   "source": [
    "plt.scatter(df['bill_length_mm'],df['bill_depth_mm'])\n",
    "plt.title('Scatter Plot of Bill Length vs Bill Depth')\n",
    "plt.xlabel('Bill Length')\n",
    "plt.ylabel('Bill Depth')\n",
    "plt.show()"
   ]
  },
  {
   "cell_type": "code",
   "execution_count": 62,
   "id": "9c4f101b",
   "metadata": {},
   "outputs": [
    {
     "data": {
      "text/html": [
       "<div>\n",
       "<style scoped>\n",
       "    .dataframe tbody tr th:only-of-type {\n",
       "        vertical-align: middle;\n",
       "    }\n",
       "\n",
       "    .dataframe tbody tr th {\n",
       "        vertical-align: top;\n",
       "    }\n",
       "\n",
       "    .dataframe thead th {\n",
       "        text-align: right;\n",
       "    }\n",
       "</style>\n",
       "<table border=\"1\" class=\"dataframe\">\n",
       "  <thead>\n",
       "    <tr style=\"text-align: right;\">\n",
       "      <th></th>\n",
       "      <th>species</th>\n",
       "      <th>island</th>\n",
       "      <th>bill_length_mm</th>\n",
       "      <th>bill_depth_mm</th>\n",
       "      <th>flipper_length_mm</th>\n",
       "      <th>body_mass_g</th>\n",
       "      <th>sex</th>\n",
       "    </tr>\n",
       "  </thead>\n",
       "  <tbody>\n",
       "    <tr>\n",
       "      <th>0</th>\n",
       "      <td>Adelie</td>\n",
       "      <td>Torgersen</td>\n",
       "      <td>0.254545</td>\n",
       "      <td>0.666667</td>\n",
       "      <td>181.0</td>\n",
       "      <td>3750.0</td>\n",
       "      <td>Male</td>\n",
       "    </tr>\n",
       "    <tr>\n",
       "      <th>1</th>\n",
       "      <td>Adelie</td>\n",
       "      <td>Torgersen</td>\n",
       "      <td>0.269091</td>\n",
       "      <td>0.511905</td>\n",
       "      <td>186.0</td>\n",
       "      <td>3800.0</td>\n",
       "      <td>Female</td>\n",
       "    </tr>\n",
       "    <tr>\n",
       "      <th>2</th>\n",
       "      <td>Adelie</td>\n",
       "      <td>Torgersen</td>\n",
       "      <td>0.298182</td>\n",
       "      <td>0.583333</td>\n",
       "      <td>195.0</td>\n",
       "      <td>3250.0</td>\n",
       "      <td>Female</td>\n",
       "    </tr>\n",
       "    <tr>\n",
       "      <th>4</th>\n",
       "      <td>Adelie</td>\n",
       "      <td>Torgersen</td>\n",
       "      <td>0.167273</td>\n",
       "      <td>0.738095</td>\n",
       "      <td>193.0</td>\n",
       "      <td>3450.0</td>\n",
       "      <td>Female</td>\n",
       "    </tr>\n",
       "    <tr>\n",
       "      <th>5</th>\n",
       "      <td>Adelie</td>\n",
       "      <td>Torgersen</td>\n",
       "      <td>0.261818</td>\n",
       "      <td>0.892857</td>\n",
       "      <td>190.0</td>\n",
       "      <td>3650.0</td>\n",
       "      <td>Male</td>\n",
       "    </tr>\n",
       "  </tbody>\n",
       "</table>\n",
       "</div>"
      ],
      "text/plain": [
       "  species     island  bill_length_mm  bill_depth_mm  flipper_length_mm  \\\n",
       "0  Adelie  Torgersen        0.254545       0.666667              181.0   \n",
       "1  Adelie  Torgersen        0.269091       0.511905              186.0   \n",
       "2  Adelie  Torgersen        0.298182       0.583333              195.0   \n",
       "4  Adelie  Torgersen        0.167273       0.738095              193.0   \n",
       "5  Adelie  Torgersen        0.261818       0.892857              190.0   \n",
       "\n",
       "   body_mass_g     sex  \n",
       "0       3750.0    Male  \n",
       "1       3800.0  Female  \n",
       "2       3250.0  Female  \n",
       "4       3450.0  Female  \n",
       "5       3650.0    Male  "
      ]
     },
     "execution_count": 62,
     "metadata": {},
     "output_type": "execute_result"
    }
   ],
   "source": [
    "from sklearn.preprocessing import MinMaxScaler\n",
    "df['bill_length_mm'] = MinMaxScaler().fit_transform(df[['bill_length_mm']])\n",
    "df['bill_depth_mm'] = MinMaxScaler().fit_transform(df[['bill_depth_mm']])\n",
    "df.head()"
   ]
  },
  {
   "cell_type": "code",
   "execution_count": 63,
   "id": "2dddf86f",
   "metadata": {},
   "outputs": [
    {
     "data": {
      "text/plain": [
       "[31.375427412063775,\n",
       " 15.50163534882866,\n",
       " 8.769486294749543,\n",
       " 6.751374392837372,\n",
       " 5.110493661666955,\n",
       " 4.315037065359885,\n",
       " 3.723946705212603,\n",
       " 3.297406921595293,\n",
       " 2.902423089670712]"
      ]
     },
     "execution_count": 63,
     "metadata": {},
     "output_type": "execute_result"
    }
   ],
   "source": [
    "from sklearn.cluster import KMeans\n",
    "sse = []\n",
    "for i in range(1,10):\n",
    "    km = KMeans(n_clusters=i)\n",
    "    km.fit(df[['bill_length_mm','bill_depth_mm']])\n",
    "    sse.append(km.inertia_)\n",
    "sse"
   ]
  },
  {
   "cell_type": "code",
   "execution_count": 64,
   "id": "5e37da5b",
   "metadata": {},
   "outputs": [
    {
     "data": {
      "text/plain": [
       "[<matplotlib.lines.Line2D at 0x7fdc5babaa60>]"
      ]
     },
     "execution_count": 64,
     "metadata": {},
     "output_type": "execute_result"
    },
    {
     "data": {
      "image/png": "[encoded data removed]",
      "text/plain": [
       "<Figure size 432x288 with 1 Axes>"
      ]
     },
     "metadata": {
      "needs_background": "light"
     },
     "output_type": "display_data"
    }
   ],
   "source": [
    "plt.plot(range(1,10),sse)"
   ]
  },
  {
   "cell_type": "code",
   "execution_count": 65,
   "id": "15937ba8",
   "metadata": {},
   "outputs": [
    {
     "data": {
      "text/plain": [
       "array([1, 4, 4, 1, 1, 4, 1, 4, 1, 1, 4, 1, 1, 4, 2, 1, 1, 1, 4, 4, 1, 1,\n",
       "       4, 1, 1, 4, 4, 4, 1, 4, 1, 1, 1, 1, 1, 4, 1, 1, 1, 4, 1, 1, 4, 1,\n",
       "       4, 1, 4, 1, 4, 1, 4, 1, 4, 1, 4, 1, 4, 1, 4, 1, 4, 1, 4, 1, 1, 1,\n",
       "       4, 2, 4, 1, 4, 1, 4, 1, 4, 4, 1, 1, 4, 1, 1, 1, 1, 1, 4, 1, 4, 4,\n",
       "       4, 1, 1, 1, 4, 1, 4, 1, 4, 1, 1, 1, 4, 1, 4, 1, 4, 2, 4, 1, 1, 1,\n",
       "       4, 1, 4, 1, 4, 1, 4, 1, 4, 1, 4, 1, 4, 1, 4, 1, 1, 1, 4, 4, 4, 1,\n",
       "       4, 4, 4, 4, 4, 4, 4, 1, 1, 1, 4, 4, 4, 1, 2, 2, 2, 2, 2, 2, 2, 2,\n",
       "       2, 2, 2, 2, 0, 2, 0, 2, 2, 2, 2, 2, 4, 0, 4, 2, 2, 2, 2, 2, 2, 2,\n",
       "       4, 2, 4, 2, 2, 0, 2, 2, 0, 2, 2, 0, 2, 0, 2, 2, 2, 2, 2, 0, 0, 2,\n",
       "       0, 2, 4, 2, 0, 2, 2, 2, 2, 0, 0, 2, 1, 2, 2, 2, 3, 0, 3, 0, 3, 3,\n",
       "       3, 3, 3, 0, 3, 0, 3, 3, 3, 0, 3, 0, 3, 0, 3, 3, 3, 0, 3, 3, 3, 3,\n",
       "       0, 0, 3, 3, 0, 3, 0, 3, 0, 3, 0, 3, 0, 3, 0, 0, 3, 3, 0, 3, 0, 3,\n",
       "       3, 3, 0, 3, 3, 3, 3, 3, 0, 3, 3, 3, 0, 3, 0, 0, 3, 0, 3, 0, 0, 3,\n",
       "       3, 0, 3, 0, 3, 0, 3, 0, 3, 0, 3, 0, 3, 3, 3, 0, 3, 0, 3, 0, 3, 0,\n",
       "       0, 3, 3, 0, 3, 0, 0, 0, 0, 3, 0, 3, 3, 0, 0, 3, 0, 3, 0, 0, 3, 3,\n",
       "       0, 3, 0], dtype=int32)"
      ]
     },
     "execution_count": 65,
     "metadata": {},
     "output_type": "execute_result"
    }
   ],
   "source": [
    "km = KMeans(n_clusters=5)\n",
    "ypred = km.fit_predict(df[['bill_length_mm','bill_depth_mm']])\n",
    "ypred"
   ]
  },
  {
   "cell_type": "code",
   "execution_count": 66,
   "id": "82fc401c",
   "metadata": {},
   "outputs": [
    {
     "data": {
      "text/html": [
       "<div>\n",
       "<style scoped>\n",
       "    .dataframe tbody tr th:only-of-type {\n",
       "        vertical-align: middle;\n",
       "    }\n",
       "\n",
       "    .dataframe tbody tr th {\n",
       "        vertical-align: top;\n",
       "    }\n",
       "\n",
       "    .dataframe thead th {\n",
       "        text-align: right;\n",
       "    }\n",
       "</style>\n",
       "<table border=\"1\" class=\"dataframe\">\n",
       "  <thead>\n",
       "    <tr style=\"text-align: right;\">\n",
       "      <th></th>\n",
       "      <th>species</th>\n",
       "      <th>island</th>\n",
       "      <th>bill_length_mm</th>\n",
       "      <th>bill_depth_mm</th>\n",
       "      <th>flipper_length_mm</th>\n",
       "      <th>body_mass_g</th>\n",
       "      <th>sex</th>\n",
       "      <th>cluster</th>\n",
       "    </tr>\n",
       "  </thead>\n",
       "  <tbody>\n",
       "    <tr>\n",
       "      <th>0</th>\n",
       "      <td>Adelie</td>\n",
       "      <td>Torgersen</td>\n",
       "      <td>0.254545</td>\n",
       "      <td>0.666667</td>\n",
       "      <td>181.0</td>\n",
       "      <td>3750.0</td>\n",
       "      <td>Male</td>\n",
       "      <td>1</td>\n",
       "    </tr>\n",
       "    <tr>\n",
       "      <th>1</th>\n",
       "      <td>Adelie</td>\n",
       "      <td>Torgersen</td>\n",
       "      <td>0.269091</td>\n",
       "      <td>0.511905</td>\n",
       "      <td>186.0</td>\n",
       "      <td>3800.0</td>\n",
       "      <td>Female</td>\n",
       "      <td>4</td>\n",
       "    </tr>\n",
       "    <tr>\n",
       "      <th>2</th>\n",
       "      <td>Adelie</td>\n",
       "      <td>Torgersen</td>\n",
       "      <td>0.298182</td>\n",
       "      <td>0.583333</td>\n",
       "      <td>195.0</td>\n",
       "      <td>3250.0</td>\n",
       "      <td>Female</td>\n",
       "      <td>4</td>\n",
       "    </tr>\n",
       "    <tr>\n",
       "      <th>4</th>\n",
       "      <td>Adelie</td>\n",
       "      <td>Torgersen</td>\n",
       "      <td>0.167273</td>\n",
       "      <td>0.738095</td>\n",
       "      <td>193.0</td>\n",
       "      <td>3450.0</td>\n",
       "      <td>Female</td>\n",
       "      <td>1</td>\n",
       "    </tr>\n",
       "    <tr>\n",
       "      <th>5</th>\n",
       "      <td>Adelie</td>\n",
       "      <td>Torgersen</td>\n",
       "      <td>0.261818</td>\n",
       "      <td>0.892857</td>\n",
       "      <td>190.0</td>\n",
       "      <td>3650.0</td>\n",
       "      <td>Male</td>\n",
       "      <td>1</td>\n",
       "    </tr>\n",
       "  </tbody>\n",
       "</table>\n",
       "</div>"
      ],
      "text/plain": [
       "  species     island  bill_length_mm  bill_depth_mm  flipper_length_mm  \\\n",
       "0  Adelie  Torgersen        0.254545       0.666667              181.0   \n",
       "1  Adelie  Torgersen        0.269091       0.511905              186.0   \n",
       "2  Adelie  Torgersen        0.298182       0.583333              195.0   \n",
       "4  Adelie  Torgersen        0.167273       0.738095              193.0   \n",
       "5  Adelie  Torgersen        0.261818       0.892857              190.0   \n",
       "\n",
       "   body_mass_g     sex  cluster  \n",
       "0       3750.0    Male        1  \n",
       "1       3800.0  Female        4  \n",
       "2       3250.0  Female        4  \n",
       "4       3450.0  Female        1  \n",
       "5       3650.0    Male        1  "
      ]
     },
     "execution_count": 66,
     "metadata": {},
     "output_type": "execute_result"
    }
   ],
   "source": [
    "df['cluster'] = ypred\n",
    "df.head()"
   ]
  },
  {
   "cell_type": "code",
   "execution_count": 67,
   "id": "6a79c9ac",
   "metadata": {},
   "outputs": [
    {
     "data": {
      "text/plain": [
       "array([[0.62420455, 0.36179315],\n",
       "       [0.27397008, 0.71971067],\n",
       "       [0.64692308, 0.70650183],\n",
       "       [0.49925134, 0.14320728],\n",
       "       [0.21184416, 0.49506803]])"
      ]
     },
     "execution_count": 67,
     "metadata": {},
     "output_type": "execute_result"
    }
   ],
   "source": [
    "km.cluster_centers_"
   ]
  },
  {
   "cell_type": "code",
   "execution_count": 68,
   "id": "3fb40c45",
   "metadata": {
    "scrolled": true
   },
   "outputs": [
    {
     "data": {
      "image/png": "[encoded data removed]",
      "text/plain": [
       "<Figure size 432x288 with 1 Axes>"
      ]
     },
     "metadata": {
      "needs_background": "light"
     },
     "output_type": "display_data"
    }
   ],
   "source": [
    "df1 = df[df.cluster==0]\n",
    "df2 = df[df.cluster==1]\n",
    "df3 = df[df.cluster==2]\n",
    "df4 = df[df.cluster==3]\n",
    "df5 = df[df.cluster==4]\n",
    "plt.scatter(df1.bill_length_mm,df1.bill_depth_mm,label='C1')\n",
    "plt.scatter(df2.bill_length_mm,df2.bill_depth_mm,label='C2')\n",
    "plt.scatter(df3.bill_length_mm,df3.bill_depth_mm,label='C3')\n",
    "plt.scatter(df4.bill_length_mm,df4.bill_depth_mm,label='C4')\n",
    "plt.scatter(df5.bill_length_mm,df5.bill_depth_mm,label='C5')\n",
    "plt.scatter(km.cluster_centers_[:,0],km.cluster_centers_[:,1],\n",
    "            color='black',marker='D',label='Centroid')\n",
    "plt.legend()\n",
    "plt.title('K-Means Clustering')\n",
    "plt.xlabel('Bill Length')\n",
    "plt.ylabel('Bill Depth')\n",
    "plt.show()"
   ]
  },
  {
   "cell_type": "markdown",
   "id": "1837f8a0",
   "metadata": {},
   "source": [
    "<hr>"
   ]
  },
  {
   "cell_type": "markdown",
   "id": "53c80d3f",
   "metadata": {},
   "source": [
    "## DBSCAN"
   ]
  },
  {
   "cell_type": "markdown",
   "id": "626c60ec",
   "metadata": {},
   "source": [
    "## Aim:"
   ]
  },
  {
   "cell_type": "markdown",
   "id": "568be1d8",
   "metadata": {},
   "source": [
    "To perform clusering using DBSCAN"
   ]
  },
  {
   "cell_type": "markdown",
   "id": "8a01e230",
   "metadata": {},
   "source": [
    "## Algorithm:"
   ]
  },
  {
   "cell_type": "markdown",
   "id": "04ddcd6f",
   "metadata": {},
   "source": [
    "Step1: Start<br>\n",
    "Step2: Import pandas, seaborn, matplotlib.pyplot<br>\n",
    "Step3: Import make_blobs from sklearn.datasets<br>\n",
    "Step4: Generate a dataset using make_blobs<br>\n",
    "Step5: Plot a scatter plot using the generated data<br>\n",
    "Step6: Import DBSCAN from sklearn.cluster<br>\n",
    "Step7: Fit the dataset using DBSCAN <br>\n",
    "Step8: Plot the scatter plot showing diffferent clusters<br>\n",
    "Step9: Stop<br>"
   ]
  },
  {
   "cell_type": "markdown",
   "id": "cd0c309a",
   "metadata": {},
   "source": [
    "## Code:"
   ]
  },
  {
   "cell_type": "code",
   "execution_count": 104,
   "id": "4249b903",
   "metadata": {},
   "outputs": [
    {
     "data": {
      "image/png": "[encoded data removed]",
      "text/plain": [
       "<Figure size 576x576 with 1 Axes>"
      ]
     },
     "metadata": {
      "needs_background": "light"
     },
     "output_type": "display_data"
    }
   ],
   "source": [
    "from sklearn.datasets import make_blobs\n",
    "from sklearn.cluster import DBSCAN\n",
    "\n",
    "X,Y = make_blobs(n_samples=150,centers=4,n_features=2,random_state=16)\n",
    "\n",
    "df=pd.DataFrame(dict(x=X[:,0],y=X[:,1]))\n",
    "df.plot.scatter(x='x',y='y',figsize=(8,8))\n",
    "plt.xlabel('X_1')\n",
    "plt.ylabel('X_2')\n",
    "plt.show()"
   ]
  },
  {
   "cell_type": "code",
   "execution_count": 105,
   "id": "bd1a3ec9",
   "metadata": {},
   "outputs": [
    {
     "data": {
      "text/html": [
       "<div>\n",
       "<style scoped>\n",
       "    .dataframe tbody tr th:only-of-type {\n",
       "        vertical-align: middle;\n",
       "    }\n",
       "\n",
       "    .dataframe tbody tr th {\n",
       "        vertical-align: top;\n",
       "    }\n",
       "\n",
       "    .dataframe thead th {\n",
       "        text-align: right;\n",
       "    }\n",
       "</style>\n",
       "<table border=\"1\" class=\"dataframe\">\n",
       "  <thead>\n",
       "    <tr style=\"text-align: right;\">\n",
       "      <th></th>\n",
       "      <th>x</th>\n",
       "      <th>y</th>\n",
       "    </tr>\n",
       "  </thead>\n",
       "  <tbody>\n",
       "    <tr>\n",
       "      <th>0</th>\n",
       "      <td>-6.172694</td>\n",
       "      <td>-0.378803</td>\n",
       "    </tr>\n",
       "    <tr>\n",
       "      <th>1</th>\n",
       "      <td>4.602630</td>\n",
       "      <td>-7.028945</td>\n",
       "    </tr>\n",
       "    <tr>\n",
       "      <th>2</th>\n",
       "      <td>-4.506919</td>\n",
       "      <td>1.098461</td>\n",
       "    </tr>\n",
       "    <tr>\n",
       "      <th>3</th>\n",
       "      <td>-7.788053</td>\n",
       "      <td>-0.542500</td>\n",
       "    </tr>\n",
       "    <tr>\n",
       "      <th>4</th>\n",
       "      <td>4.547395</td>\n",
       "      <td>-7.591296</td>\n",
       "    </tr>\n",
       "    <tr>\n",
       "      <th>5</th>\n",
       "      <td>-5.257837</td>\n",
       "      <td>2.075528</td>\n",
       "    </tr>\n",
       "    <tr>\n",
       "      <th>6</th>\n",
       "      <td>2.242148</td>\n",
       "      <td>-7.264501</td>\n",
       "    </tr>\n",
       "    <tr>\n",
       "      <th>7</th>\n",
       "      <td>-4.812903</td>\n",
       "      <td>0.358400</td>\n",
       "    </tr>\n",
       "    <tr>\n",
       "      <th>8</th>\n",
       "      <td>-0.031903</td>\n",
       "      <td>-9.332998</td>\n",
       "    </tr>\n",
       "    <tr>\n",
       "      <th>9</th>\n",
       "      <td>-2.019391</td>\n",
       "      <td>-5.807865</td>\n",
       "    </tr>\n",
       "  </tbody>\n",
       "</table>\n",
       "</div>"
      ],
      "text/plain": [
       "          x         y\n",
       "0 -6.172694 -0.378803\n",
       "1  4.602630 -7.028945\n",
       "2 -4.506919  1.098461\n",
       "3 -7.788053 -0.542500\n",
       "4  4.547395 -7.591296\n",
       "5 -5.257837  2.075528\n",
       "6  2.242148 -7.264501\n",
       "7 -4.812903  0.358400\n",
       "8 -0.031903 -9.332998\n",
       "9 -2.019391 -5.807865"
      ]
     },
     "execution_count": 105,
     "metadata": {},
     "output_type": "execute_result"
    }
   ],
   "source": [
    "df.head(10)"
   ]
  },
  {
   "cell_type": "code",
   "execution_count": 106,
   "id": "c3f7d002",
   "metadata": {},
   "outputs": [
    {
     "data": {
      "text/plain": [
       "array([0, 1, 0, 0, 1, 0, 1, 0, 1, 2, 1, 1, 1, 1, 2, 2, 2, 0, 1, 1, 2, 1,\n",
       "       2, 0, 1, 1, 2, 1, 0, 0, 1, 2, 1, 2, 1, 2, 0, 1, 1, 1, 1, 1, 1, 2,\n",
       "       1, 1, 1, 2, 1, 1, 2, 1, 1, 0, 0, 1, 1, 1, 0, 0, 2, 1, 0, 1, 1, 2,\n",
       "       1, 0, 1, 2, 1, 2, 1, 1, 1, 1, 2, 1, 2, 2, 0, 1, 1, 2, 1, 1, 1, 1,\n",
       "       1, 1, 2, 0, 0, 0, 2, 1, 1, 2, 0, 0, 0, 0, 1, 2, 0, 1, 0, 0, 2, 2,\n",
       "       0, 2, 0, 1, 1, 1, 2, 2, 1, 0, 2, 1, 0, 2, 0, 0, 2, 0, 1, 2, 1, 1,\n",
       "       1, 0, 2, 1, 1, 0, 1, 1, 1, 2, 0, 1, 0, 1, 2, 1, 1, 1])"
      ]
     },
     "execution_count": 106,
     "metadata": {},
     "output_type": "execute_result"
    }
   ],
   "source": [
    "dbscan = DBSCAN(eps=2,min_samples=6).fit(X)\n",
    "dbscan.labels_"
   ]
  },
  {
   "cell_type": "code",
   "execution_count": 107,
   "id": "09a0645b",
   "metadata": {},
   "outputs": [
    {
     "data": {
      "text/plain": [
       "3"
      ]
     },
     "execution_count": 107,
     "metadata": {},
     "output_type": "execute_result"
    }
   ],
   "source": [
    "len(set(dbscan.labels_))"
   ]
  },
  {
   "cell_type": "code",
   "execution_count": 108,
   "id": "f9c0b204",
   "metadata": {},
   "outputs": [
    {
     "data": {
      "image/png": "[encoded data removed]",
      "text/plain": [
       "<Figure size 576x576 with 1 Axes>"
      ]
     },
     "metadata": {
      "needs_background": "light"
     },
     "output_type": "display_data"
    }
   ],
   "source": [
    "def show_clusters(X,cluster):\n",
    "    df=pd.DataFrame(dict(x=X[:,0],y=X[:,1],label=cluster))\n",
    "    colors={-1:'red',0:'green',1:'blue',2:'orange',3:'pink'}\n",
    "    fig,ax=plt.subplots(figsize=(8,8))\n",
    "    grouped=df.groupby('label')\n",
    "    for key,group in grouped:\n",
    "        group.plot(ax=ax,kind='scatter',x='x',y='y',label=key,color=colors[key])\n",
    "    plt.xlabel('X_1')\n",
    "    plt.ylabel('X_2')\n",
    "    plt.show()\n",
    "show_clusters(X,dbscan.labels_)"
   ]
  }
 ],
 "metadata": {
  "kernelspec": {
   "display_name": "Python 3 (ipykernel)",
   "language": "python",
   "name": "python3"
  },
  "language_info": {
   "codemirror_mode": {
    "name": "ipython",
    "version": 3
   },
   "file_extension": ".py",
   "mimetype": "text/x-python",
   "name": "python",
   "nbconvert_exporter": "python",
   "pygments_lexer": "ipython3",
   "version": "3.10.12"
  }
 },
 "nbformat": 4,
 "nbformat_minor": 5
}
