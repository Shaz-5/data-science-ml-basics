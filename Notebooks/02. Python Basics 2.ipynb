{
 "cells": [
  {
   "cell_type": "markdown",
   "id": "e268e4de",
   "metadata": {},
   "source": [
    "<h1 style=\"text-align: center;font-weight:900;font-size:30px\">PYTHON BASICS 2</h1>"
   ]
  },
  {
   "cell_type": "markdown",
   "id": "729166f1",
   "metadata": {},
   "source": [
    "## Aim:"
   ]
  },
  {
   "cell_type": "markdown",
   "id": "300fa962",
   "metadata": {},
   "source": [
    "To perform basic python operations using python data structures."
   ]
  },
  {
   "cell_type": "markdown",
   "id": "7e891ca6",
   "metadata": {},
   "source": [
    "## Code :"
   ]
  },
  {
   "cell_type": "markdown",
   "id": "b78d9ecb",
   "metadata": {},
   "source": [
    "1. Write a program to fetch only even values from a dictionary."
   ]
  },
  {
   "cell_type": "code",
   "execution_count": 6,
   "id": "1fffc316",
   "metadata": {},
   "outputs": [
    {
     "name": "stdout",
     "output_type": "stream",
     "text": [
      "\n",
      "Output:\n",
      "\n",
      "10 20 40 "
     ]
    }
   ],
   "source": [
    "dictionary = {'val1':10,'val2':20,'val3':23,'val4':40}\n",
    "print('\\nOutput:\\n')\n",
    "for i in dictionary.values():\n",
    "    if i % 2 == 0:\n",
    "        print(i,end = ' ')"
   ]
  },
  {
   "cell_type": "markdown",
   "id": "34baf8b5",
   "metadata": {},
   "source": [
    "<div>"
   ]
  },
  {
   "cell_type": "markdown",
   "id": "30aba0a9",
   "metadata": {},
   "source": [
    "2. Write a program to filter even and odd numbers from a list."
   ]
  },
  {
   "cell_type": "code",
   "execution_count": 4,
   "id": "fa009866",
   "metadata": {},
   "outputs": [
    {
     "name": "stdout",
     "output_type": "stream",
     "text": [
      "\n",
      "Output:\n",
      "\n",
      "\n",
      "Even numbers:  [6, 4, 2, 8, 12]\n",
      "\n",
      "Odd numbers:  [5, 3, 23, 45, 13]\n"
     ]
    }
   ],
   "source": [
    "list1 = [5,6,4,3,2,8,23,45,12,13]\n",
    "even = []\n",
    "odd = []\n",
    "for i in list1:\n",
    "    if i %2 == 0:\n",
    "        even.append(i)\n",
    "    else:\n",
    "        odd.append(i)\n",
    "        \n",
    "print('\\nOutput:\\n')\n",
    "print(\"\\nEven numbers: \",even)\n",
    "print(\"\\nOdd numbers: \",odd)"
   ]
  },
  {
   "cell_type": "markdown",
   "id": "45984ff7",
   "metadata": {},
   "source": [
    "<div>"
   ]
  },
  {
   "cell_type": "markdown",
   "id": "e7fdaee5",
   "metadata": {},
   "source": [
    "3. Write a for loop that iterates over a list of strings and prints the\n",
    "first three characters of every word"
   ]
  },
  {
   "cell_type": "code",
   "execution_count": 7,
   "id": "b6ad424d",
   "metadata": {
    "scrolled": true
   },
   "outputs": [
    {
     "name": "stdout",
     "output_type": "stream",
     "text": [
      "\n",
      "Output:\n",
      "\n",
      "Jan\n",
      "Feb\n",
      "Mar\n"
     ]
    }
   ],
   "source": [
    "string_list = ['January','February','March']\n",
    "print('\\nOutput:\\n')\n",
    "for i in string_list:\n",
    "    print(i[0:3])"
   ]
  },
  {
   "cell_type": "markdown",
   "id": "ad1870e5",
   "metadata": {},
   "source": [
    "<div>"
   ]
  },
  {
   "cell_type": "markdown",
   "id": "edf31008",
   "metadata": {},
   "source": [
    "4. Implement a program that requests a list of student names from the user\n",
    "and prints those names that starts from letters A through J."
   ]
  },
  {
   "cell_type": "code",
   "execution_count": 9,
   "id": "f1bcc76a",
   "metadata": {},
   "outputs": [
    {
     "name": "stdout",
     "output_type": "stream",
     "text": [
      "How many strings?: 3\n",
      "Enter student name: John\n",
      "Enter student name: Jack\n",
      "Enter student name: Sam\n",
      "\n",
      "Output:\n",
      "\n",
      "John\n",
      "Jack\n"
     ]
    }
   ],
   "source": [
    "total = int(input(\"How many strings?: \"))\n",
    "students = []\n",
    "\n",
    "for i in range(total):\n",
    "    students.append(input(\"Enter student name: \"))\n",
    "\n",
    "print('\\nOutput:\\n')\n",
    "for j in students:\n",
    "    if (j[0] >='A' and j[0] <= 'J') or (j[0] >='a' and j[0] <= 'j'):\n",
    "        print(j)"
   ]
  },
  {
   "cell_type": "markdown",
   "id": "7e104152",
   "metadata": {},
   "source": [
    "<div>"
   ]
  },
  {
   "cell_type": "markdown",
   "id": "5dcc09fe",
   "metadata": {},
   "source": [
    "5. Write a program that requests a positive four digit integer from the user\n",
    "and prints it's digits."
   ]
  },
  {
   "cell_type": "code",
   "execution_count": 12,
   "id": "b399c1bb",
   "metadata": {},
   "outputs": [
    {
     "name": "stdout",
     "output_type": "stream",
     "text": [
      "Enter a positive four digit number: 2625\n",
      "\n",
      "Output:\n",
      "\n",
      "2\n",
      "6\n",
      "2\n",
      "5\n"
     ]
    }
   ],
   "source": [
    "num = int(input(\"Enter a positive four digit number: \"))\n",
    "\n",
    "#to get the digits from the number\n",
    "revdigits = []\n",
    "for i in range(4):\n",
    "    revdigits.append(num%10)\n",
    "    num = int(num/10)\n",
    "digits = revdigits[::-1]\n",
    "    \n",
    "#to print the numbers in order\n",
    "print('\\nOutput:\\n')\n",
    "for i in digits:\n",
    "    print(i)"
   ]
  },
  {
   "cell_type": "markdown",
   "id": "49feba69",
   "metadata": {},
   "source": [
    "<div>"
   ]
  },
  {
   "cell_type": "markdown",
   "id": "1528435e",
   "metadata": {},
   "source": [
    "6. Implement function pay() that takes as input two arguments: an hourly wage and the number of hours an employee worked in the last week. Your function should compute and return the employee's pay. Any hours worked beyond 40 is overtime and should be paid at 1.5 times the regular hourly wage."
   ]
  },
  {
   "cell_type": "code",
   "execution_count": 13,
   "id": "e866b207",
   "metadata": {},
   "outputs": [
    {
     "name": "stdout",
     "output_type": "stream",
     "text": [
      "\n",
      "Output:\n",
      "\n",
      "Enter the hourly wage: 45\n",
      "Enter the number of hours worked: 43\n",
      "\n",
      "The employee's pay is 2002.5\n"
     ]
    }
   ],
   "source": [
    "#function to compute employee's pay\n",
    "def pay(wage, hours):\n",
    "    if(hours > 40):\n",
    "        pay_rate = wage*40 + (hours-40)*(wage*1.5)\n",
    "    else:\n",
    "        pay_rate = wage*hours\n",
    "    return pay_rate\n",
    "\n",
    "#input\n",
    "print('\\nOutput:\\n')\n",
    "wage = int(input(\"Enter the hourly wage: \"))\n",
    "hours = int(input(\"Enter the number of hours worked: \"))\n",
    "print(\"\\nThe employee's pay is\",pay(wage,hours))"
   ]
  },
  {
   "cell_type": "markdown",
   "id": "48745f99",
   "metadata": {},
   "source": [
    "<div>"
   ]
  },
  {
   "cell_type": "markdown",
   "id": "eaafaf85",
   "metadata": {},
   "source": [
    "7. Implement the function vowels() that takes as input a string and prints\n",
    "the indexes of all vowels in the string."
   ]
  },
  {
   "cell_type": "code",
   "execution_count": 14,
   "id": "9da3b441",
   "metadata": {},
   "outputs": [
    {
     "name": "stdout",
     "output_type": "stream",
     "text": [
      "\n",
      "Output:\n",
      "\n",
      "Enter the string: The String\n",
      "2\n",
      "7\n"
     ]
    }
   ],
   "source": [
    "#function to print indexes of all vowels in a string\n",
    "def vowels(string):\n",
    "    indices = []\n",
    "    for i in range(len(string)):\n",
    "        if string[i] in \"aeiouAEIOU\":\n",
    "            indices.append(i)\n",
    "    for j in indices:\n",
    "            print(j)\n",
    "        \n",
    "#input string\n",
    "print('\\nOutput:\\n')\n",
    "string = input('Enter the string: ')\n",
    "vowels(string)"
   ]
  },
  {
   "cell_type": "markdown",
   "id": "70195f31",
   "metadata": {},
   "source": [
    "<div>"
   ]
  },
  {
   "cell_type": "markdown",
   "id": "63740615",
   "metadata": {},
   "source": [
    "8. Write a function intersect() that takes two lists, each containing no duplicate values, and returns a list containing values that are present in both lists."
   ]
  },
  {
   "cell_type": "code",
   "execution_count": 16,
   "id": "7862b917",
   "metadata": {},
   "outputs": [
    {
     "name": "stdout",
     "output_type": "stream",
     "text": [
      "\n",
      "Output:\n",
      "\n",
      "List 1: [3, 5, 1, 7, 9]\n",
      "List 2: [4, 2, 6, 3, 9]\n",
      "\n",
      "Intersection: [3, 9]\n"
     ]
    }
   ],
   "source": [
    "def intersect(l1,l2):\n",
    "    intersection = []\n",
    "    for i in l1:\n",
    "        if i in l2:\n",
    "            intersection.append(i)\n",
    "    return intersection\n",
    "\n",
    "list1 = [3,5,1,7,9]\n",
    "list2 = [4,2,6,3,9]\n",
    "print('\\nOutput:\\n')\n",
    "print('List 1:',list1)\n",
    "print('List 2:',list2)\n",
    "print('\\nIntersection:',intersect(list1,list2))"
   ]
  },
  {
   "cell_type": "markdown",
   "id": "790ea236",
   "metadata": {},
   "source": [
    "<div>"
   ]
  },
  {
   "cell_type": "markdown",
   "id": "6ab063df",
   "metadata": {},
   "source": [
    "9. Implement a function mystery() that takes as input a positive integer n and answers this question: How many times can n be halved (using integer division) before reaching 1?\n",
    "This value should be returned."
   ]
  },
  {
   "cell_type": "code",
   "execution_count": 19,
   "id": "843f583a",
   "metadata": {},
   "outputs": [
    {
     "name": "stdout",
     "output_type": "stream",
     "text": [
      "\n",
      "Output:\n",
      "\n",
      "Enter number: 15\n",
      "Mystery =  3\n"
     ]
    }
   ],
   "source": [
    "#function to return value of halving until 1\n",
    "def mystery(n):\n",
    "    times = 0\n",
    "    while(n>0):\n",
    "        n = n//2\n",
    "        times += 1\n",
    "        if n == 1:\n",
    "            break;\n",
    "    return times\n",
    "\n",
    "print('\\nOutput:\\n')\n",
    "number = int(input(\"Enter number: \"))\n",
    "print(\"Mystery = \",mystery(number))"
   ]
  },
  {
   "cell_type": "markdown",
   "id": "682e36d3",
   "metadata": {},
   "source": [
    "<div>"
   ]
  },
  {
   "cell_type": "markdown",
   "id": "c0f6e102",
   "metadata": {},
   "source": [
    "10. Write a function mssl() that takes as input a list of integers.\n",
    "It then computes and returns the sum of the minimum sum sublist of the input list.\n",
    "The maximum sum sublist is a sublist (slice) of the input list whose sum of\n",
    "entries is largest.\n",
    "The empty sublist is defined to have sum 0."
   ]
  },
  {
   "cell_type": "code",
   "execution_count": 20,
   "id": "675d6bc7",
   "metadata": {},
   "outputs": [
    {
     "name": "stdout",
     "output_type": "stream",
     "text": [
      "\n",
      "Output:\n",
      "\n",
      "List:  [4, -2, -8, 5, -2, 7, 7, 2, -6, 5]\n",
      "\n",
      "Maximum Sum Sublist is:  19\n"
     ]
    }
   ],
   "source": [
    "def mssl(l):\n",
    "    max_sum = current = 0\n",
    "    for z in l:\n",
    "        current = max(current+z, 0)\n",
    "        max_sum = max(max_sum, current)\n",
    "    return max_sum\n",
    "\n",
    "#create list\n",
    "list10 = [4,-2,-8,5,-2,7,7,2,-6,5]\n",
    "\n",
    "#output\n",
    "print('\\nOutput:\\n')\n",
    "print('List: ',list10)\n",
    "print(\"\\nMaximum Sum Sublist is: \",mssl(list10))"
   ]
  },
  {
   "cell_type": "markdown",
   "id": "35fe28f8",
   "metadata": {},
   "source": [
    "<div>"
   ]
  },
  {
   "cell_type": "markdown",
   "id": "3c03a343",
   "metadata": {},
   "source": [
    "11. Write a function collatz() that takes a positive integer x as input and prints the Collatz sequence starting at x."
   ]
  },
  {
   "cell_type": "code",
   "execution_count": 24,
   "id": "c76d6327",
   "metadata": {},
   "outputs": [
    {
     "name": "stdout",
     "output_type": "stream",
     "text": [
      "\n",
      "Output:\n",
      "\n",
      "Enter the positive integer: 13\n",
      "13\n",
      "40\n",
      "20\n",
      "10\n",
      "5\n",
      "16\n",
      "8\n",
      "4\n",
      "2\n",
      "1\n"
     ]
    }
   ],
   "source": [
    "#function to print collatz sequence\n",
    "def collatz(x):\n",
    "    print(x)\n",
    "    while(x>0):\n",
    "        if x%2 == 0:\n",
    "            x = x/2\n",
    "            print(int(x))\n",
    "        else:\n",
    "            x = 3*x+1\n",
    "            print(int(x))\n",
    "        if x == 1:\n",
    "            break\n",
    "\n",
    "#input the positive integer\n",
    "print('\\nOutput:\\n')\n",
    "integer = int(input('Enter the positive integer: '))\n",
    "collatz(integer)"
   ]
  },
  {
   "cell_type": "markdown",
   "id": "30ea4eeb",
   "metadata": {},
   "source": [
    "<div>"
   ]
  },
  {
   "cell_type": "markdown",
   "id": "fc5e90ac",
   "metadata": {},
   "source": [
    "12. Write function exclamation() that takes as input a string and returns it\n",
    "with this modification: <br />\n",
    "Every vowel is replaced by four consecutive copies of itself and an\n",
    "exclamation mark(!) is added at the end."
   ]
  },
  {
   "cell_type": "code",
   "execution_count": 26,
   "id": "8d125576",
   "metadata": {},
   "outputs": [
    {
     "name": "stdout",
     "output_type": "stream",
     "text": [
      "\n",
      "Output:\n",
      "\n",
      "Enter the string to modify: What\n",
      "\n",
      "The modified string is:  Whaaaat!\n"
     ]
    }
   ],
   "source": [
    "#function to return modified string\n",
    "def exclamation(string):\n",
    "    vowels = 'aeiouAEIOU'\n",
    "    for i in string:\n",
    "        if i in vowels:\n",
    "            string = string.replace(i, i*4)\n",
    "    return string + '!'\n",
    "\n",
    "#input string\n",
    "print('\\nOutput:\\n')\n",
    "string = input(\"Enter the string to modify: \")\n",
    "print('\\nThe modified string is: ',exclamation(string))"
   ]
  },
  {
   "cell_type": "markdown",
   "id": "0fcdb8db",
   "metadata": {},
   "source": [
    "<div>"
   ]
  },
  {
   "cell_type": "markdown",
   "id": "6d3a0a5e",
   "metadata": {},
   "source": [
    "13. Write function reverse() that takes as input a phone book, that is, a dictionarty mapping names (the keys) to phone numbers (the values).\n",
    "The function should return another dictionary representing the reverse phone book mapping phone numbers (the keys) to the names (the values)."
   ]
  },
  {
   "cell_type": "code",
   "execution_count": 28,
   "id": "dd63dc59",
   "metadata": {},
   "outputs": [
    {
     "name": "stdout",
     "output_type": "stream",
     "text": [
      "\n",
      "Output:\n",
      "\n",
      "Phonebook:  {'Smith Jane': '123-45-67', 'Doe John': '987-65-43', 'Baker David': '567-89-01'}\n",
      "\n",
      "The reverse phonebook is {'123-45-67': 'Smith Jane', '987-65-43': 'Doe John', '567-89-01': 'Baker David'}\n"
     ]
    }
   ],
   "source": [
    "#function to reverese phonebook\n",
    "def reverse(phonebook):\n",
    "    rev_phonebook = {b:a for a,b in phonebook.items()}\n",
    "    return rev_phonebook\n",
    "\n",
    "print('\\nOutput:\\n')\n",
    "#create dictionary\n",
    "phonebook = {'Smith Jane':'123-45-67','Doe John':'987-65-43','Baker David':'567-89-01'}\n",
    "print('Phonebook: ',phonebook)\n",
    "                                                         \n",
    "#print reverse phonebook\n",
    "print('\\nThe reverse phonebook is',reverse(phonebook))"
   ]
  },
  {
   "cell_type": "markdown",
   "id": "179d4b19",
   "metadata": {},
   "source": [
    "<div>"
   ]
  }
 ],
 "metadata": {
  "kernelspec": {
   "display_name": "Python 3 (ipykernel)",
   "language": "python",
   "name": "python3"
  },
  "language_info": {
   "codemirror_mode": {
    "name": "ipython",
    "version": 3
   },
   "file_extension": ".py",
   "mimetype": "text/x-python",
   "name": "python",
   "nbconvert_exporter": "python",
   "pygments_lexer": "ipython3",
   "version": "3.10.12"
  }
 },
 "nbformat": 4,
 "nbformat_minor": 5
}
