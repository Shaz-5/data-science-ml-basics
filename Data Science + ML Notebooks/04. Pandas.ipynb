{
 "cells": [
  {
   "cell_type": "markdown",
   "id": "afcb4f83",
   "metadata": {},
   "source": [
    "<h1 style=\"text-align: center;font-weight:900;font-size:30px\">PANDAS</h1>"
   ]
  },
  {
   "cell_type": "markdown",
   "id": "f57ee293",
   "metadata": {},
   "source": [
    "## Aim: "
   ]
  },
  {
   "cell_type": "markdown",
   "id": "bb4a0206",
   "metadata": {},
   "source": [
    "To perform operations on series and dataframes using pandas"
   ]
  },
  {
   "cell_type": "markdown",
   "id": "157f2681",
   "metadata": {},
   "source": [
    "<div>"
   ]
  },
  {
   "cell_type": "markdown",
   "id": "cf035f9b",
   "metadata": {},
   "source": [
    "## Code:"
   ]
  },
  {
   "cell_type": "code",
   "execution_count": 2,
   "id": "615ea2ea",
   "metadata": {},
   "outputs": [],
   "source": [
    "import pandas as pd"
   ]
  },
  {
   "cell_type": "markdown",
   "id": "75a07d66",
   "metadata": {},
   "source": [
    "1. Set weekdays as an index for the data frame given:"
   ]
  },
  {
   "cell_type": "code",
   "execution_count": 3,
   "id": "620f0e11",
   "metadata": {},
   "outputs": [
    {
     "name": "stdout",
     "output_type": "stream",
     "text": [
      "\n",
      "Output:\n",
      "\n",
      "          City  sells  visitors\n",
      "weekdays                       \n",
      "sun        Blr     22       255\n",
      "Mon        Del      5        25\n",
      "Sat        Hyd     25       300\n",
      "Sat       Pune     30       545\n"
     ]
    }
   ],
   "source": [
    "given_data = {\n",
    "    \n",
    "    \"City\": ['Blr','Del','Hyd','Pune'],\n",
    "    \"sells\": [22,5,25,30],\n",
    "    \"visitors\": [255,25,300,545],\n",
    "    \"weekdays\": ['sun','Mon','Sat','Sat']\n",
    "}\n",
    "\n",
    "dataframe = pd.DataFrame(given_data)\n",
    "\n",
    "#setting weekdays as index\n",
    "print('\\nOutput:\\n')\n",
    "wkdys_dataframe = dataframe.set_index(\"weekdays\")\n",
    "\n",
    "print(wkdys_dataframe)"
   ]
  },
  {
   "cell_type": "markdown",
   "id": "5912c250",
   "metadata": {},
   "source": [
    "<div>"
   ]
  },
  {
   "cell_type": "markdown",
   "id": "0f1f919f",
   "metadata": {},
   "source": [
    "2. Drop an index i.e Row3 from data_frame given in question 1 and reset the index using .reset_index() fuction."
   ]
  },
  {
   "cell_type": "code",
   "execution_count": 4,
   "id": "f8cf77f7",
   "metadata": {
    "scrolled": true
   },
   "outputs": [
    {
     "name": "stdout",
     "output_type": "stream",
     "text": [
      "\n",
      "Output:\n",
      "\n",
      "   City  sells  visitors weekdays\n",
      "0   Blr     22       255      sun\n",
      "1   Del      5        25      Mon\n",
      "2  Pune     30       545      Sat\n"
     ]
    }
   ],
   "source": [
    "data_frame = pd.DataFrame(given_data)                \n",
    "#data frame given in question 1\n",
    "data_frame.drop([2], inplace = True)                 \n",
    "#removed row 3 from the data frame\n",
    "data_frame.reset_index(drop = True, inplace = True)\n",
    "#resetting index\n",
    "print('\\nOutput:\\n')\n",
    "print(data_frame)"
   ]
  },
  {
   "cell_type": "markdown",
   "id": "23fd4ae4",
   "metadata": {},
   "source": [
    "<div>"
   ]
  },
  {
   "cell_type": "markdown",
   "id": "b8c0116c",
   "metadata": {},
   "source": [
    "3. Create a data frame using the given dictionary and remove the rows having missing values(nan), not more than 2. And reset the index of the data frame.\n",
    "d= {‘A’ :[1,2,np.NaN,5,8,12],‘B’:[ 1,np.NaN, np.NaN,24,12,34], ‘C’:[1,2,3,11,np.NaN,17]}"
   ]
  },
  {
   "cell_type": "code",
   "execution_count": 5,
   "id": "d919b530",
   "metadata": {},
   "outputs": [
    {
     "name": "stdout",
     "output_type": "stream",
     "text": [
      "\n",
      "Output:\n",
      "\n",
      "      A     B     C\n",
      "0   1.0   1.0   1.0\n",
      "1   5.0  24.0  11.0\n",
      "2  12.0  34.0  17.0\n"
     ]
    }
   ],
   "source": [
    "import numpy as np\n",
    "\n",
    "#given dictionary\n",
    "data = {\n",
    "    \n",
    "    'A' :[1,2,np.NaN,5,8,12],\n",
    "    'B':[ 1,np.NaN, np.NaN,24,12,34], \n",
    "    'C':[1,2,3,11,np.NaN,17]\n",
    "}\n",
    "\n",
    "#drop Nan values and reset index\n",
    "df = pd.DataFrame(data)\n",
    "df.dropna(inplace = True)\n",
    "df.reset_index(drop = True, inplace = True)\n",
    "print('\\nOutput:\\n')\n",
    "print(df)"
   ]
  },
  {
   "cell_type": "markdown",
   "id": "daa4e6f6",
   "metadata": {},
   "source": [
    "<div>"
   ]
  },
  {
   "cell_type": "markdown",
   "id": "8c9e053f",
   "metadata": {},
   "source": [
    "4. Create a data frame using the given function and find unique values and the number of occurrences of every value in the df.\n",
    "{“col 1”:[1,2,3,4], “col2” :[444,333,111,444], “col3”:[‘abc’, ‘def’,’ghi’,’xyz’]}"
   ]
  },
  {
   "cell_type": "code",
   "execution_count": 6,
   "id": "804ead7d",
   "metadata": {},
   "outputs": [
    {
     "name": "stdout",
     "output_type": "stream",
     "text": [
      "\n",
      "Output:\n",
      "\n",
      "Unique Values:\n",
      "[1 2 3 4]\n",
      "[444 333 111]\n",
      "['abc' 'def' 'ghi' 'xyz']\n",
      "\n",
      "Counts:\n",
      "1    1\n",
      "2    1\n",
      "3    1\n",
      "4    1\n",
      "Name: col1, dtype: int64\n",
      "444    2\n",
      "333    1\n",
      "111    1\n",
      "Name: col2, dtype: int64\n",
      "abc    1\n",
      "def    1\n",
      "ghi    1\n",
      "xyz    1\n",
      "Name: col3, dtype: int64\n"
     ]
    }
   ],
   "source": [
    "#given data\n",
    "data4 = {\n",
    "    \n",
    "    \"col1\":[1,2,3,4], \n",
    "    \"col2\" :[444,333,111,444], \n",
    "    \"col3\":['abc', 'def','ghi','xyz']\n",
    "}\n",
    "\n",
    "dataframe4 = pd.DataFrame(data4)\n",
    "\n",
    "print('\\nOutput:\\n')\n",
    "#unique function\n",
    "print('Unique Values:')\n",
    "print(dataframe4.col1.unique())\n",
    "print(dataframe4.col2.unique())\n",
    "print(dataframe4.col3.unique())\n",
    "\n",
    "#value_counts function\n",
    "print('\\nCounts:')\n",
    "print(dataframe4.col1.value_counts())\n",
    "print(dataframe4.col2.value_counts())\n",
    "print(dataframe4.col3.value_counts())"
   ]
  },
  {
   "cell_type": "markdown",
   "id": "21279867",
   "metadata": {},
   "source": [
    "<div>"
   ]
  },
  {
   "cell_type": "markdown",
   "id": "52f6f4c6",
   "metadata": {},
   "source": [
    "5. Create a data frame from the dictionary given below and perform the given operations using .groupby() function of pandas\n",
    "\n",
    "{“Company” : [“CompA”, “CompA”, “CompB”, “CompB”, “CompC”, “CompC”],\n",
    "“Person”: [Rajesh”,”Pradeep”,”Amit”,”Rakesh”,”Suresh”,”Raj”],\n",
    "“Sales” :[200,120,340,124,243,350]}\n",
    "\n",
    "Operations:\n",
    "A. group data by ‘company’ label<br>\n",
    "B. apply standard deviation on grouped data by ‘company’ label<br>\n",
    "C. sum the sales of the same companies and fetch the data , use .groupby() function.<br>"
   ]
  },
  {
   "cell_type": "code",
   "execution_count": 7,
   "id": "673df7db",
   "metadata": {},
   "outputs": [
    {
     "name": "stdout",
     "output_type": "stream",
     "text": [
      "\n",
      "Output:\n",
      "\n",
      "Dataframe:\n",
      "\n",
      "  Company   Person  Sales\n",
      "0   CompA   Rajesh    200\n",
      "1   CompA  Pradeep    120\n",
      "2   CompB     Amit    340\n",
      "3   CompB   Rakesh    124\n",
      "4   CompC   Suresh    243\n",
      "5   CompC      Raj    350\n",
      "\n",
      "A.Grouped data by 'Company label':\n",
      "\n",
      "Company  Person   Sales\n",
      "CompA    Pradeep  120      1\n",
      "         Rajesh   200      1\n",
      "CompB    Amit     340      1\n",
      "         Rakesh   124      1\n",
      "CompC    Raj      350      1\n",
      "         Suresh   243      1\n",
      "dtype: int64\n",
      "\n",
      "B.Standard deviation on grouped data by ‘company’ label:\n",
      "\n",
      "              Sales\n",
      "Company            \n",
      "CompA     56.568542\n",
      "CompB    152.735065\n",
      "CompC     75.660426\n",
      "\n",
      "C.Sum of the sales of the same companies grouped by 'Company label:'\n",
      "\n",
      "         Sales\n",
      "Company       \n",
      "CompA      320\n",
      "CompB      464\n",
      "CompC      593\n"
     ]
    }
   ],
   "source": [
    "data5 = {\n",
    "    \n",
    "    \"Company\" : [\"CompA\", \"CompA\", \"CompB\", \"CompB\", \"CompC\", \"CompC\"],\n",
    "    \"Person\": [\"Rajesh\",\"Pradeep\",\"Amit\",\"Rakesh\",\"Suresh\",\"Raj\"],\n",
    "    \"Sales\" :[200,120,340,124,243,350]\n",
    "}\n",
    "\n",
    "#create dataframe using given dictionary\n",
    "df5 = pd.DataFrame(data5)\n",
    "print('\\nOutput:\\n')\n",
    "print('Dataframe:\\n')\n",
    "print(df5)\n",
    "\n",
    "#operation A\n",
    "A = df5.groupby([\"Company\"]).value_counts()\n",
    "print(\"\\nA.Grouped data by 'Company label':\\n\")\n",
    "print(A)\n",
    "\n",
    "#operation B\n",
    "B = df5.groupby([\"Company\"]).std(numeric_only = True)\n",
    "print(\"\\nB.Standard deviation on grouped data by ‘company’ label:\\n\")\n",
    "print(B)\n",
    "\n",
    "#operation C\n",
    "C = df5.groupby([\"Company\"]).sum(numeric_only = True)\n",
    "print(\"\\nC.Sum of the sales of the same companies grouped by 'Company label:'\\n\")\n",
    "print(C)"
   ]
  },
  {
   "cell_type": "markdown",
   "id": "89f05a5b",
   "metadata": {},
   "source": [
    "<div>"
   ]
  },
  {
   "cell_type": "markdown",
   "id": "717061a2",
   "metadata": {},
   "source": [
    "6. Perform at least two operations using both loc[ ] and iloc [] functions on the dataframe given below."
   ]
  },
  {
   "cell_type": "code",
   "execution_count": 8,
   "id": "0a99bef6",
   "metadata": {},
   "outputs": [
    {
     "name": "stdout",
     "output_type": "stream",
     "text": [
      "\n",
      "Output:\n",
      "\n",
      "Dataframe:\n",
      "\n",
      "      Col 1  Col 2  Col 3  Col 4  Col 5\n",
      "Row1      3      3      4      5      4\n",
      "Row2      1      8      2      7      7\n",
      "Row3      4      7      1      9      2\n",
      "Row4      6      6      6      7      0\n",
      "Row5      9      3      9      2      1\n",
      "\n",
      "\n",
      "Accesing Row2 from the dataframe using loc funtion:\n",
      "\n",
      "Col 1    1\n",
      "Col 2    8\n",
      "Col 3    2\n",
      "Col 4    7\n",
      "Col 5    7\n",
      "Name: Row2, dtype: int64\n",
      "\n",
      "\n",
      "Accesing element from Row2 and Col4 from the dataframe using iloc function:\n",
      "Element =  7\n"
     ]
    }
   ],
   "source": [
    "#given data frame\n",
    "data6 = {\n",
    "    \n",
    "    \"Col 1\": [3,1,4,6,9],\n",
    "    \"Col 2\": [3,8,7,6,3],\n",
    "    \"Col 3\": [4,2,1,6,9],\n",
    "    \"Col 4\": [5,7,9,7,2],\n",
    "    \"Col 5\": [4,7,2,0,1]\n",
    "}\n",
    "\n",
    "df6 = pd.DataFrame(data6 , index = ['Row1','Row2','Row3','Row4','Row5'])\n",
    "\n",
    "print('\\nOutput:\\n')\n",
    "print('Dataframe:\\n')\n",
    "print(df6)\n",
    "\n",
    "#loc[] function - used to access a group of rows and columns by label\n",
    "print('\\n\\nAccesing Row2 using loc funtion:\\n')\n",
    "print(df6.loc['Row2'])\n",
    "\n",
    "#iloc[] function - \n",
    "#used for purely integer-location based indexing for selection by position\n",
    "print('\\n\\nAccesing element from Row2 and Col4 using iloc function:')\n",
    "print('Element = ',df6.iloc[1,3])"
   ]
  },
  {
   "cell_type": "markdown",
   "id": "5f19f7de",
   "metadata": {},
   "source": [
    "<div>"
   ]
  }
 ],
 "metadata": {
  "kernelspec": {
   "display_name": "Python 3 (ipykernel)",
   "language": "python",
   "name": "python3"
  },
  "language_info": {
   "codemirror_mode": {
    "name": "ipython",
    "version": 3
   },
   "file_extension": ".py",
   "mimetype": "text/x-python",
   "name": "python",
   "nbconvert_exporter": "python",
   "pygments_lexer": "ipython3",
   "version": "3.10.12"
  }
 },
 "nbformat": 4,
 "nbformat_minor": 5
}
