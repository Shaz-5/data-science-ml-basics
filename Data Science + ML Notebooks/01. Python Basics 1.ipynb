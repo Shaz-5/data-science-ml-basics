{
 "cells": [
  {
   "cell_type": "markdown",
   "metadata": {},
   "source": [
    "<h1 style=\"text-align: center;font-weight:900;font-size:30px\">PYTHON BASICS 1</h1>"
   ]
  },
  {
   "cell_type": "markdown",
   "metadata": {},
   "source": [
    "Program No:"
   ]
  },
  {
   "cell_type": "markdown",
   "metadata": {},
   "source": [
    "Date: "
   ]
  },
  {
   "cell_type": "markdown",
   "metadata": {},
   "source": [
    "<div>"
   ]
  },
  {
   "cell_type": "markdown",
   "metadata": {},
   "source": [
    "## Aim:"
   ]
  },
  {
   "cell_type": "markdown",
   "metadata": {},
   "source": [
    "To perform basic python operations."
   ]
  },
  {
   "cell_type": "markdown",
   "metadata": {},
   "source": [
    "<div />"
   ]
  },
  {
   "cell_type": "markdown",
   "metadata": {},
   "source": [
    "## Code:"
   ]
  },
  {
   "cell_type": "markdown",
   "metadata": {},
   "source": [
    "1. Write a python function to find the Max of three numbers."
   ]
  },
  {
   "cell_type": "code",
   "execution_count": 17,
   "metadata": {
    "scrolled": true
   },
   "outputs": [
    {
     "name": "stdout",
     "output_type": "stream",
     "text": [
      "\n",
      "Output:\n",
      "\n",
      "Enter the 1st number: 3\n",
      "Enter the 2nd number: 8\n",
      "Enter the 3rd number: 1\n",
      "\n",
      "The maximum value is:  8\n"
     ]
    }
   ],
   "source": [
    "#function to find max\n",
    "def max(x, y, z):\n",
    "    max = 0\n",
    "    if x>y and x>z:\n",
    "        max = x\n",
    "    elif y>x and y>z:\n",
    "        max = y\n",
    "    else:\n",
    "        max = z\n",
    "    return max\n",
    "\n",
    "print('\\nOutput:\\n')\n",
    "a = int(input('Enter the 1st number: '))\n",
    "b = int(input('Enter the 2nd number: '))\n",
    "c = int(input('Enter the 3rd number: '))\n",
    "print('\\nThe maximum value is: ', max(a,b,c))"
   ]
  },
  {
   "cell_type": "markdown",
   "metadata": {},
   "source": [
    "<hr />"
   ]
  },
  {
   "cell_type": "markdown",
   "metadata": {},
   "source": [
    "2. Write a python function to sum all the numbers in a list."
   ]
  },
  {
   "cell_type": "code",
   "execution_count": 16,
   "metadata": {},
   "outputs": [
    {
     "name": "stdout",
     "output_type": "stream",
     "text": [
      "\n",
      "Output:\n",
      "\n",
      "\n",
      "List:  [4, 5, 6, 7, 8, 9]\n",
      "\n",
      "Sum of all numbers in the list is:  39\n"
     ]
    }
   ],
   "source": [
    "#function to sum all numbers in list\n",
    "def list_sum(list1):\n",
    "    sum = 0\n",
    "    for i in range(0,len(list1)):\n",
    "        sum += list1[i]\n",
    "    return sum\n",
    "\n",
    "list1 = [4,5,6,7,8,9]\n",
    "print('\\nOutput:\\n')\n",
    "print('\\nList: ',list1)\n",
    "print('\\nSum of all numbers in the list is: ',\n",
    "      list_sum(list1))"
   ]
  },
  {
   "cell_type": "markdown",
   "metadata": {},
   "source": [
    "<hr />"
   ]
  },
  {
   "cell_type": "markdown",
   "metadata": {},
   "source": [
    "3. Write a python function to multiyply all the numbers in a list."
   ]
  },
  {
   "cell_type": "code",
   "execution_count": 18,
   "metadata": {},
   "outputs": [
    {
     "name": "stdout",
     "output_type": "stream",
     "text": [
      "\n",
      "Output:\n",
      "\n",
      "\n",
      "List:  [9, 8, 7, 6, 5, 4]\n",
      "\n",
      "Product of all numbers in the list is:  60480\n"
     ]
    }
   ],
   "source": [
    "#function to sum all numbers in list\n",
    "def list_multiply(list2):\n",
    "    product = 1\n",
    "    for i in range(0,len(list2)):\n",
    "        product *= list2[i]\n",
    "    return product\n",
    "\n",
    "list2 = [9,8,7,6,5,4]\n",
    "print('\\nOutput:\\n')\n",
    "print('\\nList: ',list2)\n",
    "print('\\nProduct of all numbers in the list is: ',\n",
    "      list_multiply(list2))"
   ]
  },
  {
   "cell_type": "markdown",
   "metadata": {},
   "source": [
    "<hr />"
   ]
  },
  {
   "cell_type": "markdown",
   "metadata": {},
   "source": [
    "4. Write a python program to reverse a string."
   ]
  },
  {
   "cell_type": "code",
   "execution_count": 19,
   "metadata": {},
   "outputs": [
    {
     "name": "stdout",
     "output_type": "stream",
     "text": [
      "\n",
      "Output:\n",
      "\n",
      "Enter string: Hello World\n",
      "\n",
      "The reversed string is:  dlroW olleH\n"
     ]
    }
   ],
   "source": [
    "#reverse string\n",
    "print('\\nOutput:\\n')\n",
    "string = input('Enter string: ')\n",
    "print(\"\\nThe reversed string is: \",string[::-1])"
   ]
  },
  {
   "cell_type": "markdown",
   "metadata": {},
   "source": [
    "<hr />"
   ]
  },
  {
   "cell_type": "markdown",
   "metadata": {},
   "source": [
    "5. Write a python function to calculate the factorial of a number (non-negative integer). The function accept the number as an argument."
   ]
  },
  {
   "cell_type": "code",
   "execution_count": 20,
   "metadata": {},
   "outputs": [
    {
     "name": "stdout",
     "output_type": "stream",
     "text": [
      "\n",
      "Output:\n",
      "\n",
      "Enter number: 5\n",
      "\n",
      "Factorial of the number is:  120\n"
     ]
    }
   ],
   "source": [
    "#function to calculate factorial\n",
    "def fact(x):\n",
    "    if x == 1 or x == 0:\n",
    "        return 1\n",
    "    else:\n",
    "        return (x*fact(x-1))\n",
    "\n",
    "print('\\nOutput:\\n')\n",
    "num = int(input('Enter number: '))\n",
    "if(num>=0):\n",
    "    print('\\nFactorial of the number is: ',fact(num))\n",
    "else:\n",
    "    print('Factorial does not exist for negative numbers.')"
   ]
  },
  {
   "cell_type": "markdown",
   "metadata": {},
   "source": [
    "<hr />"
   ]
  },
  {
   "cell_type": "markdown",
   "metadata": {},
   "source": [
    "6. Write a python function to check whether a number is in a given range."
   ]
  },
  {
   "cell_type": "code",
   "execution_count": 22,
   "metadata": {},
   "outputs": [
    {
     "name": "stdout",
     "output_type": "stream",
     "text": [
      "\n",
      "Output:\n",
      "\n",
      "Enter lower limit: 2\n",
      "Enter upper limit: 8\n",
      "\n",
      "Enter the number to check whether it is present in the given range: 6\n",
      "\n",
      "The number is in the given range.\n"
     ]
    }
   ],
   "source": [
    "#function to check whether a number is in a given range\n",
    "def is_in_range(x,u,l):\n",
    "    if x<u and x>l:\n",
    "        return True\n",
    "    else:\n",
    "        return False\n",
    "\n",
    "print('\\nOutput:\\n')\n",
    "lower = int(input('Enter lower limit: '))\n",
    "upper = int(input('Enter upper limit: '))\n",
    "num = int(input('\\nEnter the number to check whether it is present in the given range: '))\n",
    "if is_in_range(num,upper,lower):\n",
    "    print(\"\\nThe number is in the given range.\")\n",
    "else:\n",
    "    print(\"\\nThe number is NOT in the given range.\")"
   ]
  },
  {
   "cell_type": "markdown",
   "metadata": {},
   "source": [
    "<hr />"
   ]
  },
  {
   "cell_type": "markdown",
   "metadata": {},
   "source": [
    "7. Write a python function that accepts a string and calculate the number of upper case letters and lower case letters."
   ]
  },
  {
   "cell_type": "code",
   "execution_count": 23,
   "metadata": {},
   "outputs": [
    {
     "name": "stdout",
     "output_type": "stream",
     "text": [
      "\n",
      "Output:\n",
      "\n",
      "Enter string: Hello\n",
      "\n",
      "Number of Uppercase Letters and Lowercase letters are:  (1, 4)\n"
     ]
    }
   ],
   "source": [
    "#function to calculate number of upper case letters\n",
    "def letter_count(string):\n",
    "    u = l = 0\n",
    "    for i in string:\n",
    "        if i.isupper():\n",
    "            u +=1\n",
    "        elif i.islower():\n",
    "            l +=1\n",
    "    return u,l\n",
    "\n",
    "print('\\nOutput:\\n')\n",
    "sentence = input('Enter string: ')\n",
    "print('\\nNumber of Uppercase Letters and Lowercase letters are: ',letter_count(sentence))"
   ]
  },
  {
   "cell_type": "markdown",
   "metadata": {},
   "source": [
    "<hr />"
   ]
  },
  {
   "cell_type": "markdown",
   "metadata": {},
   "source": [
    "8. Write a python function that takes a list and returns a new list with unique elements of the first list."
   ]
  },
  {
   "cell_type": "code",
   "execution_count": 24,
   "metadata": {},
   "outputs": [
    {
     "name": "stdout",
     "output_type": "stream",
     "text": [
      "\n",
      "Output:\n",
      "\n",
      "How many elements?: 5\n",
      "\n",
      "Enter list elements: \n",
      "\n",
      "Enter element: 2\n",
      "Enter element: 3\n",
      "Enter element: 2\n",
      "Enter element: 6\n",
      "Enter element: 2\n",
      "\n",
      "List:  ['2', '3', '2', '6', '2']\n",
      "\n",
      "The new list with unique elements is:  ['2', '3', '6']\n"
     ]
    }
   ],
   "source": [
    "#function to return new list with unique elements of the first list\n",
    "def unique_list(list3):\n",
    "    unique = []\n",
    "    for i in list3:\n",
    "        if i not in unique:\n",
    "            unique.append(i)\n",
    "    return unique\n",
    "\n",
    "print('\\nOutput:\\n')\n",
    "elements = int(input('How many elements?: '))\n",
    "print('\\nEnter list elements: \\n')\n",
    "first_list = []\n",
    "for j in range(0,elements):\n",
    "    first_list.append(input('Enter element: '))\n",
    "print('\\nList: ',first_list)\n",
    "print('\\nThe new list with unique elements is: ',unique_list(first_list))"
   ]
  },
  {
   "cell_type": "markdown",
   "metadata": {},
   "source": [
    "<hr />"
   ]
  },
  {
   "cell_type": "markdown",
   "metadata": {},
   "source": [
    "9. Write a python function that takes a number as a parameter and check the number is prime or not."
   ]
  },
  {
   "cell_type": "code",
   "execution_count": 34,
   "metadata": {},
   "outputs": [
    {
     "name": "stdout",
     "output_type": "stream",
     "text": [
      "\n",
      "Output:\n",
      "\n",
      "Enter the number: 1\n",
      "\n",
      "The number is NOT prime.\n"
     ]
    }
   ],
   "source": [
    "#function to check prime numbers\n",
    "def is_not_prime(x):\n",
    "    for i in range(2,x):\n",
    "        if(x % i == 0):\n",
    "            return True\n",
    "            break\n",
    "    if(x == 1):\n",
    "        return True\n",
    "\n",
    "print('\\nOutput:\\n')\n",
    "number = int(input('Enter the number: '))\n",
    "\n",
    "if(is_not_prime(number)):\n",
    "    print('\\nThe number is NOT prime.')\n",
    "else:\n",
    "    print('\\nThe number is prime.')"
   ]
  },
  {
   "cell_type": "markdown",
   "metadata": {},
   "source": [
    "<hr />"
   ]
  },
  {
   "cell_type": "markdown",
   "metadata": {},
   "source": [
    "10. Write a python function that checks whether a passed string is palindrome or not."
   ]
  },
  {
   "cell_type": "code",
   "execution_count": 29,
   "metadata": {
    "scrolled": true
   },
   "outputs": [
    {
     "name": "stdout",
     "output_type": "stream",
     "text": [
      "\n",
      "Output:\n",
      "\n",
      "Enter the string to check for palindrome: reviver\n",
      "\n",
      "The string is a palindrome.\n"
     ]
    }
   ],
   "source": [
    "#funtion to check palindrome\n",
    "def is_palindrome(string):\n",
    "    string = string.lower()\n",
    "    if string[::-1] == string:\n",
    "        return True\n",
    "    else:\n",
    "        return False\n",
    "\n",
    "print('\\nOutput:\\n')\n",
    "string1 = input('Enter the string to check for palindrome: ')\n",
    "if(is_palindrome(string1)):\n",
    "    print('\\nThe string is a palindrome.')\n",
    "else:\n",
    "    print('\\nThe string is NOT a palindrome.')"
   ]
  },
  {
   "cell_type": "markdown",
   "metadata": {},
   "source": [
    "<hr />"
   ]
  }
 ],
 "metadata": {
  "kernelspec": {
   "display_name": "Python 3 (ipykernel)",
   "language": "python",
   "name": "python3"
  },
  "language_info": {
   "codemirror_mode": {
    "name": "ipython",
    "version": 3
   },
   "file_extension": ".py",
   "mimetype": "text/x-python",
   "name": "python",
   "nbconvert_exporter": "python",
   "pygments_lexer": "ipython3",
   "version": "3.10.12"
  }
 },
 "nbformat": 4,
 "nbformat_minor": 2
}
