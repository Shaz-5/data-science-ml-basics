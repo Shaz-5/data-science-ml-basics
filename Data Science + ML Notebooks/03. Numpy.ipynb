{
 "cells": [
  {
   "cell_type": "markdown",
   "id": "e268e4de",
   "metadata": {},
   "source": [
    "<h1 style='text-align: center;font-weight:900;font-size:30px'>NUMPY</h1>"
   ]
  },
  {
   "cell_type": "markdown",
   "id": "729166f1",
   "metadata": {},
   "source": [
    "## Aim:"
   ]
  },
  {
   "cell_type": "markdown",
   "id": "300fa962",
   "metadata": {},
   "source": [
    "To perform basic array operations using the NumPy library."
   ]
  },
  {
   "cell_type": "markdown",
   "id": "7e891ca6",
   "metadata": {},
   "source": [
    "## Code :"
   ]
  },
  {
   "cell_type": "markdown",
   "id": "b78d9ecb",
   "metadata": {},
   "source": [
    "1. Create a numpy array using a list of ten items."
   ]
  },
  {
   "cell_type": "code",
   "execution_count": 2,
   "id": "979c929d",
   "metadata": {},
   "outputs": [
    {
     "name": "stdout",
     "output_type": "stream",
     "text": [
      "\n",
      "Output:\n",
      "\n",
      "\n",
      "Numpy array created using list of ten items is: \n",
      "\n",
      "[ 1  2  3  4  5  6  7  8  9 10]\n"
     ]
    }
   ],
   "source": [
    "list_10 = [1,2,3,4,5,6,7,8,9,10]  \n",
    "#list of ten items\n",
    "numpy_array = np.array(list_10)      \n",
    "#created numpy array using list\n",
    "\n",
    "print('\\nOutput:\\n')\n",
    "print('\\nNumpy array created using list of ten items is: \\n\\n',numpy_array,sep='')"
   ]
  },
  {
   "cell_type": "markdown",
   "id": "270aff0e",
   "metadata": {},
   "source": [
    "<div>"
   ]
  },
  {
   "cell_type": "markdown",
   "id": "f158ccf5",
   "metadata": {},
   "source": [
    "2. Create a numpy arrays with different dimensions. <br />\n",
    "(a) Print the dimensions. <br />\n",
    "(b) Access the elements from the arrays."
   ]
  },
  {
   "cell_type": "code",
   "execution_count": 4,
   "id": "2c76bfd9",
   "metadata": {},
   "outputs": [
    {
     "name": "stdout",
     "output_type": "stream",
     "text": [
      "\n",
      "Output:\n",
      "\n",
      "(a)\n",
      "Dimension of arr_d1:\n",
      "\n",
      " [1 2 3 4 5 6 7 8]  =  1\n",
      "\n",
      "Dimension of arr_d2:\n",
      "\n",
      " [[1 2 3 4]\n",
      " [5 6 7 8]]  =  2\n",
      "\n",
      "Dimension of arr_d3:\n",
      "\n",
      " [[[1 2]\n",
      "  [3 4]]\n",
      "\n",
      " [[5 6]\n",
      "  [7 8]]]  =  3\n",
      "\n",
      "\n",
      "(b)\n",
      "Elements of arr_d1:\n",
      "\n",
      "arr_d1[0]  =  1\n",
      "arr_d1[1]  =  2\n",
      "arr_d1[2]  =  3\n",
      "arr_d1[3]  =  4\n",
      "arr_d1[4]  =  5\n",
      "arr_d1[5]  =  6\n",
      "arr_d1[6]  =  7\n",
      "arr_d1[7]  =  8\n",
      "\n",
      "Elements of arr_d2:\n",
      "\n",
      "arr_d2[0]  =  [1 2 3 4]\n",
      "arr_d2[1]  =  [5 6 7 8]\n",
      "\n",
      "Elements of arr_d3:\n",
      "\n",
      "arr_d3[0]  = \n",
      "\n",
      " [[1 2]\n",
      " [3 4]]\n",
      "\n",
      "arr_d3[1]  = \n",
      "\n",
      " [[5 6]\n",
      " [7 8]]\n",
      "\n"
     ]
    }
   ],
   "source": [
    "arr_d1 = np.array([1,2,3,4,5,6,7,8])                     \n",
    "#1-dimensional array\n",
    "arr_d2 = np.array([[1,2,3,4],[5,6,7,8]])                 \n",
    "#2-dimensional array\n",
    "arr_d3 = np.array([[[1,2],[3,4]],[[5,6],[7,8]]])         \n",
    "#3-dimensional array\n",
    "\n",
    "print('\\nOutput:\\n')\n",
    "#(a)printing dimensions\n",
    "print('(a)\\nDimension of arr_d1:\\n\\n',arr_d1,' = ',arr_d1.ndim)\n",
    "print('\\nDimension of arr_d2:\\n\\n',arr_d2,' = ',arr_d2.ndim)\n",
    "print('\\nDimension of arr_d3:\\n\\n',arr_d3,' = ',arr_d3.ndim)\n",
    "\n",
    "#(b)accessing elements\n",
    "print('\\n\\n(b)\\nElements of arr_d1:\\n')\n",
    "for i in range(len(arr_d1)):\n",
    "    print('arr_d1[{}]'.format(i),' = ',arr_d1[i])\n",
    "\n",
    "print('\\nElements of arr_d2:\\n')\n",
    "for i in range(len(arr_d2)):\n",
    "    print('arr_d2[{}]'.format(i),' = ',arr_d2[i])\n",
    "    \n",
    "print('\\nElements of arr_d3:\\n')\n",
    "for i in range(len(arr_d3)):\n",
    "    print('arr_d3[{}]'.format(i),' = \\n\\n',arr_d3[i],end='\\n\\n')"
   ]
  },
  {
   "cell_type": "markdown",
   "id": "1490585d",
   "metadata": {},
   "source": [
    "<div>"
   ]
  },
  {
   "cell_type": "markdown",
   "id": "9662fe6b",
   "metadata": {},
   "source": [
    "3. Perform addition, multiplication and subtraction operations over any\n",
    "created numpy arrays"
   ]
  },
  {
   "cell_type": "code",
   "execution_count": 6,
   "id": "aca0fe6b",
   "metadata": {},
   "outputs": [
    {
     "name": "stdout",
     "output_type": "stream",
     "text": [
      "\n",
      "Output:\n",
      "\n",
      "\n",
      "Array 1 =  [1 2 3 4]\n",
      "Array 2 =  [2 4 6 8]\n",
      "\n",
      "\n",
      "Array 1 + Array 2 =  [ 3  6  9 12]\n",
      "\n",
      "Array 1 * Array 2 =  [ 2  8 18 32]\n",
      "\n",
      "Array 1 - Array 2 =  [-1 -2 -3 -4]\n"
     ]
    }
   ],
   "source": [
    "arr1 = np.array([1,2,3,4])                 \n",
    "#array1\n",
    "arr2 = np.array([2,4,6,8])                 \n",
    "#array2\n",
    "\n",
    "print('\\nOutput:\\n')\n",
    "print('\\nArray 1 = ',arr1)\n",
    "print('Array 2 = ',arr2)\n",
    "\n",
    "#addition\n",
    "print('\\n\\nArray 1 + Array 2 = ',arr1+arr2)\n",
    "\n",
    "#multiplication\n",
    "print('\\nArray 1 * Array 2 = ',arr1*arr2)\n",
    "\n",
    "#subtraction\n",
    "print('\\nArray 1 - Array 2 = ',arr1-arr2)"
   ]
  },
  {
   "cell_type": "markdown",
   "id": "b08bd051",
   "metadata": {},
   "source": [
    "<div>"
   ]
  },
  {
   "cell_type": "markdown",
   "id": "499215eb",
   "metadata": {},
   "source": [
    "4. Use arrange function in numpy with two examples"
   ]
  },
  {
   "cell_type": "markdown",
   "id": "2aef4f1a",
   "metadata": {},
   "source": [
    "<div>"
   ]
  },
  {
   "cell_type": "code",
   "execution_count": 8,
   "id": "cd482a9e",
   "metadata": {},
   "outputs": [
    {
     "name": "stdout",
     "output_type": "stream",
     "text": [
      "\n",
      "Output:\n",
      "\n",
      "\n",
      "Example 1:\n",
      "np.arange(0,9) gives:  [0 1 2 3 4 5 6 7 8]\n",
      "\n",
      "Example 2:\n",
      "np.arange(0,9,2) gives:  [0 2 4 6 8]\n"
     ]
    }
   ],
   "source": [
    "#arange function is used to make arrays of a range of numbers\n",
    "print('\\nOutput:\\n')\n",
    "print('\\nExample 1:')\n",
    "arange_1 = np.arange(0,9)\n",
    "print('np.arange(0,9) gives: ',arange_1)\n",
    "\n",
    "print('\\nExample 2:')\n",
    "arange_2 = np.arange(0,9,2)\n",
    "print('np.arange(0,9,2) gives: ',arange_2)"
   ]
  },
  {
   "cell_type": "markdown",
   "id": "dfcef426",
   "metadata": {},
   "source": [
    "<div>"
   ]
  },
  {
   "cell_type": "markdown",
   "id": "0b50e54b",
   "metadata": {},
   "source": [
    "5. Create a numpy array and perform square root and standard deviation on it."
   ]
  },
  {
   "cell_type": "code",
   "execution_count": 9,
   "id": "5b67df69",
   "metadata": {},
   "outputs": [
    {
     "name": "stdout",
     "output_type": "stream",
     "text": [
      "\n",
      "Output:\n",
      "\n",
      "\n",
      "Array =  [ 1  4  9 16 25]\n",
      "\n",
      "Square root of the array =  [1. 2. 3. 4. 5.]\n",
      "\n",
      "Standard deviation of the array =  8.648699324175862\n"
     ]
    }
   ],
   "source": [
    "array = np.array([1,4,9,16,25])\n",
    "print('\\nOutput:\\n')\n",
    "print('\\nArray = ',array)\n",
    "\n",
    "#squareroot\n",
    "print('\\nSquare root of the array = ',np.sqrt(array))\n",
    "\n",
    "#standard deviation\n",
    "print('\\nStandard deviation of the array = ',np.std(array))"
   ]
  },
  {
   "cell_type": "markdown",
   "id": "37a1cac9",
   "metadata": {},
   "source": [
    "<div>"
   ]
  },
  {
   "cell_type": "markdown",
   "id": "55420ae9",
   "metadata": {},
   "source": [
    "6. Build a 2-dimentional array and perform column sum, row sum, column mean, row mean"
   ]
  },
  {
   "cell_type": "code",
   "execution_count": 10,
   "id": "a3836ce7",
   "metadata": {},
   "outputs": [
    {
     "name": "stdout",
     "output_type": "stream",
     "text": [
      "\n",
      "Output:\n",
      "\n",
      "\n",
      "The 2-dimensional array: \n",
      "[1 2]\n",
      "[3 4]\n",
      "\n",
      "Column sum of the array =  [4 6]\n",
      "Row sum of the array =  [3 7]\n",
      "Column mean of the array =  [2. 3.]\n",
      "Row mean of the array =  [1.5 3.5]\n"
     ]
    }
   ],
   "source": [
    "arr2d = np.array([[1,2],[3,4]])\n",
    "print('\\nOutput:\\n')\n",
    "print('\\nThe 2-dimensional array: ')\n",
    "for i in arr2d:\n",
    "    print(i)\n",
    "\n",
    "#column sum\n",
    "print('\\nColumn sum of the array = ',np.sum(arr2d,axis=0))\n",
    "\n",
    "#row sum\n",
    "print('Row sum of the array = ',np.sum(arr2d,axis=1))\n",
    "\n",
    "#column mean\n",
    "print('Column mean of the array = ',np.mean(arr2d,axis=0))\n",
    "\n",
    "#row mean\n",
    "print('Row mean of the array = ',np.mean(arr2d,axis=1))"
   ]
  },
  {
   "cell_type": "markdown",
   "id": "4d3a821b",
   "metadata": {},
   "source": [
    "<div>"
   ]
  },
  {
   "cell_type": "markdown",
   "id": "89d36214",
   "metadata": {},
   "source": [
    "7. Generate arrays of zeros and ones with shape of (2,4)"
   ]
  },
  {
   "cell_type": "code",
   "execution_count": 11,
   "id": "23b2b865",
   "metadata": {},
   "outputs": [
    {
     "name": "stdout",
     "output_type": "stream",
     "text": [
      "\n",
      "Output:\n",
      "\n",
      "\n",
      "Array of zeroes with shape of (2,4) = \n",
      "\n",
      "[0 0 0 0]\n",
      "[0 0 0 0]\n",
      "\n",
      "\n",
      "Array of ones with shape of (2,4) = \n",
      "\n",
      "[1 1 1 1]\n",
      "[1 1 1 1]\n"
     ]
    }
   ],
   "source": [
    "#zero array with shape (2,4)\n",
    "print('\\nOutput:\\n')\n",
    "arr_0 = np.zeros((2,4),dtype=int)\n",
    "print('\\nArray of zeroes with shape of (2,4) = \\n')\n",
    "for i in arr_0:\n",
    "    print(i)\n",
    "    \n",
    "#ones array with shape (2,4)\n",
    "arr_1 = np.ones((2,4),dtype=int)\n",
    "print('\\n\\nArray of ones with shape of (2,4) = \\n')\n",
    "for i in arr_1:\n",
    "    print(i)"
   ]
  },
  {
   "cell_type": "markdown",
   "id": "4deb9b8a",
   "metadata": {},
   "source": [
    "<div>"
   ]
  },
  {
   "cell_type": "markdown",
   "id": "a164dfc3",
   "metadata": {},
   "source": [
    "8. Create two numpy arrays and append data horizontally and vertically."
   ]
  },
  {
   "cell_type": "code",
   "execution_count": 13,
   "id": "8874043a",
   "metadata": {},
   "outputs": [
    {
     "name": "stdout",
     "output_type": "stream",
     "text": [
      "\n",
      "Output:\n",
      "\n",
      "Array 1 = \n",
      "[1 2]\n",
      "[3 4]\n",
      "\n",
      "Array 2 = \n",
      "[1 2]\n",
      "[3 4]\n",
      "\n",
      "Data appended horizontally: \n",
      "[1 2 5 6]\n",
      "[3 4 7 8]\n",
      "\n",
      "Data appended vertically: \n",
      "[1 2]\n",
      "[3 4]\n",
      "[5 6]\n",
      "[7 8]\n"
     ]
    }
   ],
   "source": [
    "array1 = np.array([[1,2],[3,4]])\n",
    "array2 = np.array([[5,6],[7,8]])\n",
    "print('\\nOutput:\\n')\n",
    "print('Array 1 = ')\n",
    "for i in array1:\n",
    "    print(i)\n",
    "print('\\nArray 2 = ')\n",
    "for i in array1:\n",
    "    print(i)\n",
    "\n",
    "#append data horizontally\n",
    "horz = np.append(array1,array2,axis=1)\n",
    "print('\\nData appended horizontally: ')\n",
    "for i in horz:\n",
    "    print(i)\n",
    "\n",
    "#append data vertically\n",
    "vert = np.append(array1,array2,axis=0)\n",
    "print('\\nData appended vertically: ')\n",
    "for i in vert:\n",
    "    print(i)"
   ]
  },
  {
   "cell_type": "markdown",
   "id": "4be8b60b",
   "metadata": {},
   "source": [
    "<div>"
   ]
  },
  {
   "cell_type": "markdown",
   "id": "c2a8b0ad",
   "metadata": {},
   "source": [
    "9. Build two numpy array and perform the following operations"
   ]
  },
  {
   "cell_type": "code",
   "execution_count": 15,
   "id": "fc1412f1",
   "metadata": {},
   "outputs": [
    {
     "name": "stdout",
     "output_type": "stream",
     "text": [
      "\n",
      "Output:\n",
      "\n",
      "\n",
      "Array 1 =  [8 3 6 9 5 3 6 2 1 0]\n",
      "Array 2 =  [1 7 9 4 8 4 7 4 0 3]\n",
      "\n",
      "(i) Enter element to search for: 5\n",
      "\n",
      "Element found in array 1 at index(es): [4] \n",
      "Element not found in array 2.\n",
      "\n",
      "\n",
      "(ii) The joined array is:  [8 3 6 9 5 3 6 2 1 0 1 7 9 4 8 4 7 4 0 3]\n",
      "\n",
      "\n",
      "(iii) The sorted array 1 is:  [0 1 2 3 3 5 6 6 8 9]\n",
      "      The sorted array 2 is:  [0 1 3 4 4 4 7 7 8 9]\n",
      "\n",
      "\n",
      "(iv) Broadcast result for array 1:  [18 13 16 19 15 13 16 12 11 10]\n",
      "     Broadcast result for array 2:  [11 17 19 14 18 14 17 14 10 13]\n"
     ]
    }
   ],
   "source": [
    "arrI = np.array([8,3,6,9,5,3,6,2,1,0])\n",
    "arrII = np.array([1,7,9,4,8,4,7,4,0,3])\n",
    "print('\\nOutput:\\n')\n",
    "print('\\nArray 1 = ',arrI)\n",
    "print('Array 2 = ',arrII)\n",
    "\n",
    "#(i)search\n",
    "qry = int(input('\\n(i) Enter element to search for: '))\n",
    "srch1 = np.where(arrI==qry)\n",
    "srch2 = np.where(arrII==qry)\n",
    "\n",
    "#searching array 1\n",
    "if srch1[0].size > 0 :\n",
    "    print('\\nElement found in array 1 at index(es): ',end='')\n",
    "    for i in srch1[0]:\n",
    "        print([i],end=' ')\n",
    "else:\n",
    "    print('\\nElement not found in array 1.')\n",
    "    \n",
    "#searching array 2\n",
    "if srch2[0].size > 0 :\n",
    "    print('\\nElement found in array 2 at index(es): ',end='')\n",
    "    for i in srch2[0]:\n",
    "        print([i],end=' ')\n",
    "else:\n",
    "    print('\\nElement not found in array 2.')\n",
    "    \n",
    "#(ii)Join\n",
    "print('\\n\\n(ii) The joined array is: ',np.concatenate((arrI,arrII)))\n",
    "\n",
    "#(iii)Sort\n",
    "print('\\n\\n(iii) The sorted array 1 is: ',np.sort(arrI))\n",
    "print('      The sorted array 2 is: ',np.sort(arrII))\n",
    "\n",
    "#(iv)Broadcast\n",
    "val = 10\n",
    "print('\\n\\n(iv) Broadcast result for array 1: ',arrI+val)\n",
    "print('     Broadcast result for array 2: ',arrII+val)"
   ]
  },
  {
   "cell_type": "markdown",
   "id": "800b7361",
   "metadata": {},
   "source": [
    "<div>"
   ]
  },
  {
   "cell_type": "markdown",
   "id": "e6cc3613",
   "metadata": {},
   "source": [
    "10. Generate the following <br />\n",
    "(a) One dimensional array with 5 random integers from 10 to 50 <br />\n",
    "(b) Two-dimensional array with 4 rows, each row containing 3 random integers"
   ]
  },
  {
   "cell_type": "code",
   "execution_count": 2,
   "id": "2431cd44",
   "metadata": {},
   "outputs": [
    {
     "name": "stdout",
     "output_type": "stream",
     "text": [
      "\n",
      "Output:\n",
      "\n",
      "\n",
      "(a) 1 dimensional array: [32 13 34 30 15]\n",
      "\n",
      "(b) Two-dimensional array:\n",
      "\n",
      "[5 6 7]\n",
      "[ 8 10  5]\n",
      "[ 6 10  9]\n",
      "[8 6 6]\n"
     ]
    }
   ],
   "source": [
    "import numpy as np\n",
    "#1d array with 5 random integers from 10 to 50\n",
    "print('\\nOutput:\\n')\n",
    "rand_1d = np.random.randint(10,51,size=5)\n",
    "print('\\n(a) 1 dimensional array:',rand_1d)\n",
    "\n",
    "#2d array with with 4 rows, each row containing 3 random integers from 5 to 10\n",
    "rand_2d = np.random.randint(5,11,size=(4,3))\n",
    "print('\\n(b) Two-dimensional array:\\n')\n",
    "for i in rand_2d:\n",
    "    print(i)"
   ]
  },
  {
   "cell_type": "markdown",
   "id": "e522f423",
   "metadata": {},
   "source": [
    "<div>"
   ]
  },
  {
   "cell_type": "markdown",
   "id": "2af76018",
   "metadata": {},
   "source": [
    "11. Reverse a vector such that first element becomes last"
   ]
  },
  {
   "cell_type": "code",
   "execution_count": 17,
   "id": "653245b7",
   "metadata": {},
   "outputs": [
    {
     "name": "stdout",
     "output_type": "stream",
     "text": [
      "\n",
      "Output:\n",
      "\n",
      "\n",
      "Vector =  [4 3 2 8 5 3 7 2 6 5]\n",
      "\n",
      "Reversed Vector =  [5 6 2 7 3 5 8 2 3 4]\n"
     ]
    }
   ],
   "source": [
    "vector = np.random.randint(0,10,size=10)\n",
    "print('\\nOutput:\\n')\n",
    "print('\\nVector = ',vector)\n",
    "\n",
    "#reverse vector\n",
    "rev_vector = np.flip(vector)\n",
    "print('\\nReversed Vector = ',rev_vector)"
   ]
  },
  {
   "cell_type": "markdown",
   "id": "3abc76fc",
   "metadata": {},
   "source": [
    "<div>"
   ]
  },
  {
   "cell_type": "markdown",
   "id": "1222a7e7",
   "metadata": {},
   "source": [
    "12. Create a 3x3 matrix with values ranging from 0 to 8"
   ]
  },
  {
   "cell_type": "code",
   "execution_count": 23,
   "id": "8441b98a",
   "metadata": {},
   "outputs": [
    {
     "name": "stdout",
     "output_type": "stream",
     "text": [
      "\n",
      "Output:\n",
      "\n",
      "A 3x3 matrix with values ranging from 0 to 8:\n",
      "\n",
      "[0 1 2]\n",
      "[3 4 5]\n",
      "[6 7 8]\n"
     ]
    }
   ],
   "source": [
    "#3x3 matrix\n",
    "matrix_values = np.arange(0,9)\n",
    "matrix = matrix_values.reshape((3,3))\n",
    "print('\\nOutput:\\n')\n",
    "print('A 3x3 matrix with values ranging from 0 to 8:\\n')\n",
    "for i in matrix:\n",
    "    print(i)"
   ]
  },
  {
   "cell_type": "markdown",
   "id": "79229dbc",
   "metadata": {},
   "source": [
    "<div>"
   ]
  },
  {
   "cell_type": "markdown",
   "id": "fa8da05d",
   "metadata": {},
   "source": [
    "13. Create a 3x3x3 array with random values"
   ]
  },
  {
   "cell_type": "code",
   "execution_count": 21,
   "id": "26ded0c4",
   "metadata": {},
   "outputs": [
    {
     "name": "stdout",
     "output_type": "stream",
     "text": [
      "\n",
      "Output:\n",
      "\n",
      "\n",
      "A 3x3x3 array with random values: \n",
      "\n",
      " [[[1 1 1]\n",
      "  [1 0 1]\n",
      "  [0 1 0]]\n",
      "\n",
      " [[0 0 1]\n",
      "  [0 0 0]\n",
      "  [1 0 0]]\n",
      "\n",
      " [[1 1 1]\n",
      "  [0 1 0]\n",
      "  [1 1 1]]]\n"
     ]
    }
   ],
   "source": [
    "#3x3x3 matrix\n",
    "arr_333 = np.random.randint(np.random.randint(50), size = (3,3,3))\n",
    "print('\\nOutput:\\n')\n",
    "print('\\nA 3x3x3 array with random values: \\n\\n',arr_333)"
   ]
  },
  {
   "cell_type": "markdown",
   "id": "e50283e0",
   "metadata": {},
   "source": [
    "<div>"
   ]
  },
  {
   "cell_type": "markdown",
   "id": "a3570789",
   "metadata": {},
   "source": [
    "14. Create a 10x10 array with random values and find the minimum and maximum values"
   ]
  },
  {
   "cell_type": "code",
   "execution_count": 26,
   "id": "bf3eb311",
   "metadata": {},
   "outputs": [
    {
     "name": "stdout",
     "output_type": "stream",
     "text": [
      "\n",
      "Output:\n",
      "\n",
      " A 10x10 array with random values: \n",
      "\n",
      " [[18 13 32 23 11  3 19 31 14  1]\n",
      " [30  5 31 22 16 32  9  4  8  4]\n",
      " [24 13  5 10 16  9 27  4 24 13]\n",
      " [27  2 25 21 24 28 21 16 12  9]\n",
      " [11 28  8 28 23 31 29 23 28  7]\n",
      " [ 6  1 18 29  4 22 20 11 31 14]\n",
      " [14 24  5 28 19 10 32 22 26 16]\n",
      " [30 30 16 10  5 28 21 26 10 29]\n",
      " [32 23 26 31 10  8 20 25 15  0]\n",
      " [25  7  1 23  1 24 31  9 11 21]]\n",
      "\n",
      "Minimum value of the array =  0\n",
      "\n",
      "Maximum value of the array =  32\n"
     ]
    }
   ],
   "source": [
    "#10x10 array\n",
    "arr_10x10 = np.random.randint(np.random.randint(35), size = (10,10))\n",
    "print('\\nOutput:\\n')\n",
    "print(' A 10x10 array with random values: \\n\\n',arr_10x10)\n",
    "\n",
    "#minimum value\n",
    "print('\\nMinimum value of the array = ',arr_10x10.min())\n",
    "\n",
    "#maximum value\n",
    "print('\\nMaximum value of the array = ',arr_10x10.max())"
   ]
  },
  {
   "cell_type": "markdown",
   "id": "4be83a68",
   "metadata": {},
   "source": [
    "<div>"
   ]
  },
  {
   "cell_type": "markdown",
   "id": "b0458b57",
   "metadata": {},
   "source": [
    "15. Compute ((A+B)*(-A/2)) for array in 1D and 2D"
   ]
  },
  {
   "cell_type": "code",
   "execution_count": 33,
   "id": "f3749a58",
   "metadata": {},
   "outputs": [
    {
     "name": "stdout",
     "output_type": "stream",
     "text": [
      "\n",
      "Output:\n",
      "\n",
      "1D:\n",
      "   A =  [15 43 11 48 27 46  2 46 40 47] \n",
      "   B =  [ 1 14 25 46 21  6 41  8 12  8]\n",
      "\n",
      "   (A+B)*(-A/2) =  [ -120.  -1225.5  -198.  -2256.   -648.  -1196.    -43.  -1242.  -1040.\n",
      " -1292.5]\n",
      "\n",
      "2D:\n",
      "   A = \n",
      " [[19  8 41]\n",
      " [ 8 15 16]\n",
      " [38 14 16]] \n",
      "   B = \n",
      " [[26 47 25]\n",
      " [46 26 11]\n",
      " [25 16 49]]\n",
      "\n",
      "\n",
      "(A+B)*(-A/2) = \n",
      " [[ -427.5  -220.  -1353. ]\n",
      " [ -216.   -307.5  -216. ]\n",
      " [-1197.   -210.   -520. ]]\n"
     ]
    }
   ],
   "source": [
    "#1D\n",
    "A_1d = np.random.randint(1,50,size = 10)\n",
    "B_1d = np.random.randint(1,50,size = 10)\n",
    "print('\\nOutput:\\n')\n",
    "print('1D:\\n   A = ',A_1d,'\\n   B = ',B_1d)\n",
    "\n",
    "#((A+B)*(-A/2)) for array in 1D\n",
    "print('\\n   (A+B)*(-A/2) = ',((A_1d+B_1d)*(-A_1d/2)))\n",
    "\n",
    "#2D\n",
    "A_2d = np.random.randint(1,50,size = (3,3))\n",
    "B_2d = np.random.randint(1,50,size = (3,3))\n",
    "print('\\n2D:\\n   A = \\n',A_2d,'\\n   B = \\n',B_2d)\n",
    "\n",
    "#((A+B)*(-A/2)) for array in 2D\n",
    "print('\\n\\n(A+B)*(-A/2) = \\n',((A_2d+B_2d)*(-A_2d/2)))"
   ]
  },
  {
   "cell_type": "markdown",
   "id": "e9b8ec73",
   "metadata": {},
   "source": [
    "<div>"
   ]
  },
  {
   "cell_type": "markdown",
   "id": "65ebf678",
   "metadata": {},
   "source": [
    "16. Create random vector of size 10 and replace the maximum value by 0"
   ]
  },
  {
   "cell_type": "code",
   "execution_count": 35,
   "id": "88f64740",
   "metadata": {},
   "outputs": [
    {
     "name": "stdout",
     "output_type": "stream",
     "text": [
      "\n",
      "Output:\n",
      "\n",
      "Vector of size 10 =  [-10  -1  -6   6   0   3   8  -7   1   3]\n",
      "\n",
      "After replacing maximum value by zero:  [-10  -1  -6   6   0   3   0  -7   1   3]\n"
     ]
    }
   ],
   "source": [
    "vect = np.random.randint(-10,10, size = 10)\n",
    "print('\\nOutput:\\n')\n",
    "print('Vector of size 10 = ',vect)\n",
    "\n",
    "#replacing max value by 0\n",
    "vect[vect.argmax()] = 0\n",
    "print('\\nAfter replacing maximum value by zero: ',vect)"
   ]
  },
  {
   "cell_type": "markdown",
   "id": "544711bf",
   "metadata": {},
   "source": [
    "<div>"
   ]
  },
  {
   "cell_type": "markdown",
   "id": "7774ea39",
   "metadata": {},
   "source": [
    "17. Replace items that satisfy a condition with another value in numpy array. <br />\n",
    "Condition: Replace all odd numbers in arr with -1\n",
    "Input:<br/>\n",
    "arr = np.array([0, 1, 2, 3, 4, 5, 6, 7, 8, 9])<br/>\n",
    "Output:<br/>\n",
    "array([ 0, -1, 2, -1, 4, -1, 6, -1, 8, -1])"
   ]
  },
  {
   "cell_type": "code",
   "execution_count": 37,
   "id": "10a393fe",
   "metadata": {},
   "outputs": [
    {
     "name": "stdout",
     "output_type": "stream",
     "text": [
      "\n",
      "Output:\n",
      "\n",
      "Enter the number of elements in the array: 4\n",
      "Enter value 1: 2\n",
      "Enter value 2: 5\n",
      "Enter value 3: 2\n",
      "Enter value 4: 8\n",
      "\n",
      "Array =  [2 5 2 8]\n",
      "\n",
      "After replacing all odd numbers with -1 =  [ 2 -1  2  8]\n"
     ]
    }
   ],
   "source": [
    "#input values to a list\n",
    "vals = []\n",
    "print('\\nOutput:\\n')\n",
    "elems = int(input('Enter the number of elements in the array: '))\n",
    "for i in range(elems):\n",
    "    vals.append(int(input('Enter value {}: '.format(i+1))))\n",
    "\n",
    "#convert list to array\n",
    "Array = np.array(vals)\n",
    "print('\\nArray = ',Array)\n",
    "\n",
    "#replace odd numbers with -1\n",
    "for j in range(len(Array)):\n",
    "    if Array[j]%2 == 1:\n",
    "        Array[j] = -1\n",
    "print('\\nAfter replacing all odd numbers with -1 = ',Array)"
   ]
  },
  {
   "cell_type": "markdown",
   "id": "e9d4f652",
   "metadata": {},
   "source": [
    "<div>"
   ]
  }
 ],
 "metadata": {
  "kernelspec": {
   "display_name": "Python 3 (ipykernel)",
   "language": "python",
   "name": "python3"
  },
  "language_info": {
   "codemirror_mode": {
    "name": "ipython",
    "version": 3
   },
   "file_extension": ".py",
   "mimetype": "text/x-python",
   "name": "python",
   "nbconvert_exporter": "python",
   "pygments_lexer": "ipython3",
   "version": "3.10.12"
  }
 },
 "nbformat": 4,
 "nbformat_minor": 5
}
